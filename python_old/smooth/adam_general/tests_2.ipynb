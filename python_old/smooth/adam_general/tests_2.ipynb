{
 "cells": [
  {
   "cell_type": "code",
   "execution_count": 3,
   "metadata": {},
   "outputs": [],
   "source": [
    "import numpy as np\n",
    "import pandas as pd\n",
    "from statsmodels.tsa.stattools import acf, pacf"
   ]
  },
  {
   "cell_type": "code",
   "execution_count": 6,
   "metadata": {},
   "outputs": [],
   "source": [
    "def calculate_acf(data, nlags=40):\n",
    "    \"\"\"\n",
    "    Calculate Autocorrelation Function for numpy array or pandas Series.\n",
    "    \n",
    "    Parameters:\n",
    "    data (np.array or pd.Series): Input time series data\n",
    "    nlags (int): Number of lags to calculate ACF for\n",
    "    \n",
    "    Returns:\n",
    "    np.array: ACF values\n",
    "    \"\"\"\n",
    "    if isinstance(data, pd.Series):\n",
    "        data = data.values\n",
    "    \n",
    "    return acf(data, nlags=nlags, fft=False)\n",
    "\n",
    "def calculate_pacf(data, nlags=40):\n",
    "    \"\"\"\n",
    "    Calculate Partial Autocorrelation Function for numpy array or pandas Series.\n",
    "    \n",
    "    Parameters:\n",
    "    data (np.array or pd.Series): Input time series data\n",
    "    nlags (int): Number of lags to calculate PACF for\n",
    "    \n",
    "    Returns:\n",
    "    np.array: PACF values\n",
    "    \"\"\"\n",
    "    if isinstance(data, pd.Series):\n",
    "        data = data.values\n",
    "    \n",
    "    return pacf(data, nlags=nlags, method='ols')\n"
   ]
  },
  {
   "cell_type": "code",
   "execution_count": 7,
   "metadata": {},
   "outputs": [],
   "source": [
    "# Example usage\n",
    "np.random.seed(42)\n",
    "date_rng = pd.date_range(start='2023-01-01', end='2023-12-31', freq='D')\n",
    "data = np.random.randn(len(date_rng)).cumsum() + 100\n",
    "\n",
    "# Create both numpy array and pandas Series\n",
    "np_array = data\n",
    "pd_series = pd.Series(data, index=date_rng)\n",
    "\n",
    "# Calculate ACF and PACF for numpy array\n",
    "acf_values_np = calculate_acf(np_array)\n",
    "pacf_values_np = calculate_pacf(np_array)\n",
    "\n",
    "# Calculate ACF and PACF for pandas Series\n",
    "acf_values_pd = calculate_acf(pd_series)\n",
    "pacf_values_pd = calculate_pacf(pd_series)"
   ]
  },
  {
   "cell_type": "code",
   "execution_count": 8,
   "metadata": {},
   "outputs": [
    {
     "data": {
      "text/plain": [
       "array([1.        , 0.98020447, 0.96291875, 0.9463405 , 0.92780577,\n",
       "       0.91353458, 0.89787089, 0.87908942, 0.85978813, 0.8416599 ,\n",
       "       0.82210143, 0.80328791, 0.78346136, 0.76302172, 0.74567016,\n",
       "       0.73017225, 0.71631451, 0.7022657 , 0.68757643, 0.67004954,\n",
       "       0.65347832, 0.6397477 , 0.6274798 , 0.61489008, 0.60059905,\n",
       "       0.5850292 , 0.57013909, 0.55543017, 0.54231908, 0.52999088,\n",
       "       0.51743239, 0.50457837, 0.49134351, 0.47703597, 0.46376578,\n",
       "       0.44944496, 0.43629551, 0.42195921, 0.41021392, 0.40102178,\n",
       "       0.39067492])"
      ]
     },
     "execution_count": 8,
     "metadata": {},
     "output_type": "execute_result"
    }
   ],
   "source": [
    "acf_values_np"
   ]
  }
 ],
 "metadata": {
  "kernelspec": {
   "display_name": ".venv",
   "language": "python",
   "name": "python3"
  },
  "language_info": {
   "codemirror_mode": {
    "name": "ipython",
    "version": 3
   },
   "file_extension": ".py",
   "mimetype": "text/x-python",
   "name": "python",
   "nbconvert_exporter": "python",
   "pygments_lexer": "ipython3",
   "version": "3.8.10"
  }
 },
 "nbformat": 4,
 "nbformat_minor": 2
}
