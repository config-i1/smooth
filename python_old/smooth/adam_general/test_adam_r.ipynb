{
 "cells": [
  {
   "cell_type": "code",
   "execution_count": 1,
   "metadata": {},
   "outputs": [],
   "source": [
    "# Jupyter magic for auto-reloading modules without restarting the notebook\n",
    "%load_ext autoreload\n",
    "%autoreload 2\n",
    "\n"
   ]
  },
  {
   "cell_type": "code",
   "execution_count": 2,
   "metadata": {},
   "outputs": [],
   "source": [
    "from core.adam import Adam\n"
   ]
  },
  {
   "cell_type": "code",
   "execution_count": 3,
   "metadata": {},
   "outputs": [],
   "source": [
    "import pandas as pd\n",
    "import numpy as np\n",
    "from core.checker import parameters_checker\n",
    "from typing import List, Union, Dict, Any\n",
    "from smooth.adam_general._adam_general import adam_fitter, adam_forecaster\n",
    "from core.utils.utils import measurement_inverter, scaler, calculate_likelihood, calculate_entropy, calculate_multistep_loss\n",
    "from numpy.linalg import eigvals\n",
    "import nlopt\n"
   ]
  },
  {
   "cell_type": "code",
   "execution_count": 4,
   "metadata": {},
   "outputs": [],
   "source": [
    "from core.estimator import estimator, selector\n",
    "from core.creator import creator, initialiser, architector, filler\n",
    "from core.utils.ic import ic_function\n",
    "\n",
    "from smooth.adam_general._adam_general import adam_fitter, adam_forecaster\n",
    "\n",
    "import warnings"
   ]
  },
  {
   "cell_type": "code",
   "execution_count": 5,
   "metadata": {},
   "outputs": [
    {
     "name": "stderr",
     "output_type": "stream",
     "text": [
      "/tmp/ipykernel_35637/4282208315.py:5: FutureWarning: 'M' is deprecated and will be removed in a future version, please use 'ME' instead.\n",
      "  dates = pd.date_range(start='2023-01-01', periods=n_points, freq='M')  # Monthly frequency\n"
     ]
    }
   ],
   "source": [
    "# Generate random monthly time series data\n",
    "np.random.seed(41)  # For reproducibility\n",
    "n_points = 24  # 2 years of monthly data\n",
    "time_series = np.random.randint(1, 100, size=n_points).cumsum()  # Random walk with strictly positive integers\n",
    "dates = pd.date_range(start='2023-01-01', periods=n_points, freq='M')  # Monthly frequency\n",
    "ts_df = pd.DataFrame({'value': time_series}, index=dates)\n"
   ]
  },
  {
   "cell_type": "code",
   "execution_count": null,
   "metadata": {},
   "outputs": [],
   "source": []
  },
  {
   "cell_type": "code",
   "execution_count": 6,
   "metadata": {},
   "outputs": [],
   "source": [
    "%load_ext rpy2.ipython"
   ]
  },
  {
   "cell_type": "code",
   "execution_count": 7,
   "metadata": {},
   "outputs": [
    {
     "name": "stdout",
     "output_type": "stream",
     "text": [
      "ℹ Loading smooth\n"
     ]
    },
    {
     "name": "stderr",
     "output_type": "stream",
     "text": [
      "R[write to console]: Loading required package: greybox\n",
      "\n",
      "R[write to console]: Package \"greybox\", v2.0.3 loaded.\n",
      "If you want to know more about the greybox and forecasting, you can visit my website: https://forecasting.svetunkov.ru/\n",
      "\n",
      "\n",
      "R[write to console]: This is package \"smooth\", v4.1.2.41005\n",
      "\n",
      "\n",
      "R[write to console]: In addition: \n",
      "R[write to console]: Warning message:\n",
      "\n",
      "R[write to console]: In (function (package, help, pos = 2, lib.loc = NULL, character.only = FALSE,  :\n",
      "R[write to console]: \n",
      " \n",
      "R[write to console]:  library ‘/usr/lib/R/site-library’ contains no packages\n",
      "\n"
     ]
    },
    {
     "name": "stdout",
     "output_type": "stream",
     "text": [
      "Smooth package loaded in development mode\n"
     ]
    }
   ],
   "source": [
    "import rpy2.robjects as ro\n",
    "from rpy2.robjects.packages import importr\n",
    "import os\n",
    "\n",
    "def load_smooth_dev():\n",
    "    \"\"\"Load the smooth package in development mode\"\"\"\n",
    "    # Path to your smooth package\n",
    "    smooth_path = \"/home/filtheo/smooth\"  # Adjust this path if needed\n",
    "    \n",
    "    # Load devtools and then load_all() the smooth package\n",
    "    ro.r(f'''\n",
    "    if (!requireNamespace(\"devtools\", quietly=TRUE)) {{\n",
    "        install.packages(\"devtools\", repos=\"https://cran.rstudio.com/\")\n",
    "    }}\n",
    "    devtools::load_all(\"{smooth_path}\")\n",
    "    ''')\n",
    "    \n",
    "    print(\"Smooth package loaded in development mode\")\n",
    "\n",
    "# Load the package in development mode\n",
    "load_smooth_dev()\n",
    "\n",
    "# Now you can access functions from the package\n",
    "# For example:\n",
    "# adam_function = ro.r('adam')"
   ]
  },
  {
   "cell_type": "code",
   "execution_count": 8,
   "metadata": {},
   "outputs": [
    {
     "name": "stderr",
     "output_type": "stream",
     "text": [
      "/tmp/ipykernel_35637/2873142698.py:4: FutureWarning: 'M' is deprecated and will be removed in a future version, please use 'ME' instead.\n",
      "  dates = pd.date_range(start='2023-01-01', periods=n_points, freq='M')  # Monthly frequency\n"
     ]
    }
   ],
   "source": [
    "np.random.seed(33)  # For reproducibility\n",
    "n_points = 39  # 2 years of monthly data\n",
    "time_series = np.random.randint(1, 100, size=n_points).cumsum()  # Random walk with strictly positive integers\n",
    "dates = pd.date_range(start='2023-01-01', periods=n_points, freq='M')  # Monthly frequency\n",
    "ts_df = pd.DataFrame({'value': time_series}, index=dates)"
   ]
  },
  {
   "cell_type": "code",
   "execution_count": 9,
   "metadata": {},
   "outputs": [
    {
     "name": "stdout",
     "output_type": "stream",
     "text": [
      "NULL\n"
     ]
    }
   ],
   "source": [
    "%%R -i ts_df\n",
    "#library(smooth)\n",
    "\n",
    "#model <- adam(ts_df, model = \"ANN\", lags = c(12), print_level = 42)\n",
    "\n",
    "#forecast(model, h = 12)\n",
    "\n",
    "\n"
   ]
  },
  {
   "cell_type": "code",
   "execution_count": 10,
   "metadata": {},
   "outputs": [
    {
     "name": "stdout",
     "output_type": "stream",
     "text": [
      "AirPassengers dataset loaded:\n",
      "            value\n",
      "1949-01-01    112\n",
      "1949-02-01    118\n",
      "1949-03-01    132\n",
      "1949-04-01    129\n",
      "1949-05-01    121\n"
     ]
    }
   ],
   "source": [
    "# Load the AirPassengers dataset from Python\n",
    "import pandas as pd\n",
    "import numpy as np\n",
    "# Create the AirPassengers dataset manually\n",
    "data = [\n",
    "    112, 118, 132, 129, 121, 135, 148, 148, 136, 119, 104, 118,\n",
    "    115, 126, 141, 135, 125, 149, 170, 170, 158, 133, 114, 140,\n",
    "    145, 150, 178, 163, 172, 178, 199, 199, 184, 162, 146, 166,\n",
    "    171, 180, 193, 181, 183, 218, 230, 242, 209, 191, 172, 194,\n",
    "    196, 196, 236, 235, 229, 243, 264, 272, 237, 211, 180, 201,\n",
    "    204, 188, 235, 227, 234, 264, 302, 293, 259, 229, 203, 229,\n",
    "    242, 233, 267, 269, 270, 315, 364, 347, 312, 274, 237, 278,\n",
    "    284, 277, 317, 313, 318, 374, 413, 405, 355, 306, 271, 306,\n",
    "    315, 301, 356, 348, 355, 422, 465, 467, 404, 347, 305, 336,\n",
    "    340, 318, 362, 348, 363, 435, 491, 505, 404, 359, 310, 337,\n",
    "    360, 342, 406, 396, 420, 472, 548, 559, 463, 407, 362, 405,\n",
    "    417, 391, 419, 461, 472, 535, 622, 606, 508, 461, 390, 432\n",
    "]\n",
    "\n",
    "# Create a proper datetime index\n",
    "dates = pd.date_range(start='1949-01-01', periods=len(data), freq='MS')\n",
    "\n",
    "# Create a pandas Series with the data\n",
    "air_passengers_series = pd.Series(data, index=dates, name='AirPassengers')\n",
    "\n",
    "# Create a DataFrame with the time series\n",
    "ts_df = pd.DataFrame({'value': air_passengers_series})\n",
    "\n",
    "print(\"AirPassengers dataset loaded:\")\n",
    "print(ts_df.head())\n",
    "\n"
   ]
  },
  {
   "cell_type": "code",
   "execution_count": 11,
   "metadata": {},
   "outputs": [
    {
     "name": "stdout",
     "output_type": "stream",
     "text": [
      "NULL\n"
     ]
    }
   ],
   "source": [
    "%%R -i ts_df\n",
    "#library(smooth)\n",
    "\n",
    "#model <- adam(ts_df, model = \"AAA\", lags = c(12), h = 12)\n",
    "\n",
    "#forecast(model, h = 12)\n",
    "\n",
    "\n"
   ]
  },
  {
   "cell_type": "code",
   "execution_count": 12,
   "metadata": {},
   "outputs": [],
   "source": [
    "#%%R -i ts_df\n",
    "#library(smooth)\n",
    "\n",
    "##model <- adam(ts_df, model = \"MAM\", lags = c(12), h = 12)\n",
    "\n",
    "#forecast(model, h = 12)\n"
   ]
  },
  {
   "cell_type": "code",
   "execution_count": 13,
   "metadata": {},
   "outputs": [
    {
     "name": "stdout",
     "output_type": "stream",
     "text": [
      "NULL\n"
     ]
    }
   ],
   "source": [
    "%%R -i ts_df\n",
    "\n",
    "\n",
    "#model$residuals\n",
    "#forecast(model$scale,h=12,newdata=ts_df,interval=\"none\")\n",
    "#is.scale(model$scale)"
   ]
  },
  {
   "cell_type": "code",
   "execution_count": 14,
   "metadata": {},
   "outputs": [
    {
     "name": "stdout",
     "output_type": "stream",
     "text": [
      "NULL\n"
     ]
    }
   ],
   "source": [
    "%%R -i ts_df\n",
    "\n",
    "#model$scale\n",
    "#covarAnal(lagsModelAll, 12, matWt[1,,drop=FALSE], matF, vecG, s2)"
   ]
  },
  {
   "cell_type": "code",
   "execution_count": 15,
   "metadata": {},
   "outputs": [
    {
     "name": "stdout",
     "output_type": "stream",
     "text": [
      "Time Series:\n",
      "Start = 145 \n",
      "End = 156 \n",
      "Frequency = 1 \n",
      "    Point forecast Lower bound (2.5%) Upper bound (97.5%)\n",
      "145       446.7459           412.6615            482.1635\n",
      "146       421.4609           387.1806            457.1745\n",
      "147       475.5442           434.6157            518.2880\n",
      "148       499.7108           454.4698            547.0676\n",
      "149       512.9283           464.3141            563.9280\n",
      "150       585.3012           527.4581            646.1104\n",
      "151       675.1290           605.7908            748.1699\n",
      "152       666.5617           595.6203            741.4370\n",
      "153       553.7605           492.8368            618.1833\n",
      "154       491.4647           435.6911            550.5488\n",
      "155       419.3779           370.3782            471.3775\n",
      "156       463.9660           408.2475            523.1969\n"
     ]
    }
   ],
   "source": [
    "%%R -i ts_df\n",
    "#library(smooth)\n",
    "\n",
    "model <- adam(ts_df, model = \"MAM\", lags = c(12), h = 12, interval = 'approximate')\n",
    "\n",
    "forecast(model, h = 12, interval = 'approximate')"
   ]
  },
  {
   "cell_type": "code",
   "execution_count": 25,
   "metadata": {},
   "outputs": [
    {
     "name": "stdout",
     "output_type": "stream",
     "text": [
      "Time Series:\n",
      "Start = 1 \n",
      "End = 144 \n",
      "Frequency = 1 \n",
      "  [1]  2.040107e-03 -1.292405e-02 -1.854963e-02 -8.439418e-03 -1.891950e-02\n",
      "  [6] -1.693909e-02 -1.875086e-02 -7.319488e-03 -9.395175e-03  4.028330e-03\n",
      " [11] -6.539378e-03 -2.326004e-02 -6.664728e-02 -9.203776e-03 -1.079621e-02\n",
      " [16] -2.615396e-02 -3.534919e-02  4.064278e-02  6.133321e-02  3.846741e-02\n",
      " [21]  3.310920e-02 -1.343652e-02 -3.008782e-02  5.125555e-02  6.186044e-02\n",
      " [26] -1.293628e-02  4.793234e-02 -2.701832e-02  1.040330e-01 -5.290147e-02\n",
      " [31] -2.902620e-02 -6.482024e-03  3.076482e-03  3.659983e-02  6.089839e-02\n",
      " [36] -9.554192e-03  1.315391e-02  1.132716e-02 -6.541393e-02 -3.822965e-02\n",
      " [41] -1.144682e-02  9.831081e-02 -6.036019e-03  5.018835e-02 -3.420422e-02\n",
      " [46]  3.468313e-02  4.753127e-02  8.459210e-03 -5.334879e-03 -4.885616e-02\n",
      " [51]  4.871498e-02  8.380737e-02  1.284537e-02 -5.666502e-02 -2.209501e-02\n",
      " [56] -8.364179e-03 -2.058596e-02 -1.529353e-02 -4.281865e-02 -3.770015e-02\n",
      " [61] -2.202087e-02 -1.129440e-01 -4.756654e-03  3.445114e-03  5.867042e-02\n",
      " [66]  6.822152e-02  9.608291e-02 -3.643135e-03  3.307582e-03 -8.945876e-03\n",
      " [71]  1.274763e-02  5.226409e-03  3.897488e-02  6.446272e-03 -6.275330e-02\n",
      " [76]  3.040236e-03  3.679921e-03  6.383615e-02  9.024669e-02  2.225124e-02\n",
      " [81]  3.335150e-02  8.128611e-03 -1.189859e-02  3.259142e-02  4.714718e-03\n",
      " [86]  1.369988e-02 -2.807875e-02 -2.595056e-02 -3.276235e-03  3.773674e-02\n",
      " [91]  1.352724e-02  3.794122e-02  1.179910e-02 -1.142007e-02  9.312353e-03\n",
      " [96] -1.349524e-02 -2.524075e-03 -1.508409e-02  7.061652e-03 -1.444713e-02\n",
      "[101] -2.306105e-03  2.973512e-02  1.847248e-02  5.441842e-02  2.111481e-02\n",
      "[106]  1.971180e-03  4.273797e-04 -3.216703e-02 -3.605532e-02 -5.041670e-02\n",
      "[111] -6.227708e-02 -6.305962e-02 -1.656342e-02  1.459812e-02  4.071557e-02\n",
      "[116]  7.747885e-02 -2.701006e-02  1.624202e-02 -6.463456e-03 -3.282271e-02\n",
      "[121]  2.040603e-02  7.634255e-03  2.181650e-02  4.156561e-03  2.121300e-02\n",
      "[126] -4.060880e-02  2.063817e-02  3.793327e-02  3.444533e-02  2.305113e-02\n",
      "[131]  3.860176e-02  3.589267e-02  9.918739e-05 -1.258045e-02 -9.587873e-02\n",
      "[136]  5.683946e-02  9.196799e-03 -1.068506e-02  1.166369e-02 -2.231617e-02\n",
      "[141]  1.031905e-02  4.661877e-02 -5.298599e-03  2.093291e-05\n"
     ]
    }
   ],
   "source": [
    "%%R -i ts_df\n",
    "\n",
    "model$residuals"
   ]
  },
  {
   "cell_type": "code",
   "execution_count": 13,
   "metadata": {},
   "outputs": [
    {
     "name": "stdout",
     "output_type": "stream",
     "text": [
      "Time Series:\n",
      "Start = 145 \n",
      "End = 156 \n",
      "Frequency = 1 \n",
      " [1] 446.7459 421.4609 475.5442 499.7108 512.9283 585.3012 675.1290 666.5617\n",
      " [9] 553.7605 491.4647 419.3779 463.9660\n"
     ]
    }
   ],
   "source": [
    "%%R -i ts_df\n",
    "#library(smooth)\n",
    "\n",
    "model <- adam(ts_df, model = \"MAM\", lags = c(12), h = 12)\n",
    "\n",
    "forecast(model, h = 12)\n",
    "#model$matVt"
   ]
  },
  {
   "cell_type": "code",
   "execution_count": 14,
   "metadata": {},
   "outputs": [
    {
     "name": "stdout",
     "output_type": "stream",
     "text": [
      "Time Series:\n",
      "Start = 145 \n",
      "End = 156 \n",
      "Frequency = 1 \n",
      " [1] 454.2558 429.9175 467.0936 503.7717 512.9642 572.6031 653.5556 638.2791\n",
      " [9] 540.5708 491.6524 425.1442 470.1898\n"
     ]
    }
   ],
   "source": [
    "%%R -i ts_df\n",
    "#library(smooth)\n",
    "\n",
    "model <- adam(ts_df, model = \"AAdA\", lags = c(12), h = 12)\n",
    "\n",
    "forecast(model, h = 12)\n",
    "#model$matVt"
   ]
  },
  {
   "cell_type": "code",
   "execution_count": 23,
   "metadata": {},
   "outputs": [
    {
     "name": "stdout",
     "output_type": "stream",
     "text": [
      "[1] \"Initial parameters:\"\n",
      "[1] \"B = 0.1, 138.068965517241\"\n",
      "[1] \"lb = 0, -Inf\"\n",
      "[1] \"ub = 1, Inf\"\n",
      "[1] \"algorithm = NLOPT_LN_NELDERMEAD\"\n",
      "[1] \"xtol_rel = 1e-06\"\n",
      "[1] \"xtol_abs = 1e-08\"\n",
      "[1] \"ftol_rel = 1e-08\"\n",
      "[1] \"ftol_abs = 0\"\n",
      "[1] \"Initial parameters:\"\n",
      "[1] \"B = 0.1, 0.3, 98.5734265734266, -24.7487373737374, -36.1881313131313, -2.24116161616162, -8.03661616161616, -4.50631313131313, 35.4027777777778, 63.8308080808081, 62.8232323232323, 16.520202020202, -20.6426767676768, -53.5934343434344\"\n",
      "[1] \"lb = 0, 0, -Inf, -Inf, -Inf, -Inf, -Inf, -Inf, -Inf, -Inf, -Inf, -Inf, -Inf, -Inf\"\n",
      "[1] \"ub = 1, 1, Inf, Inf, Inf, Inf, Inf, Inf, Inf, Inf, Inf, Inf, Inf, Inf\"\n",
      "[1] \"algorithm = NLOPT_LN_NELDERMEAD\"\n",
      "[1] \"xtol_rel = 1e-06\"\n",
      "[1] \"xtol_abs = 1e-08\"\n",
      "[1] \"ftol_rel = 1e-08\"\n",
      "[1] \"ftol_abs = 0\"\n",
      "[1] \"Initial parameters:\"\n",
      "[1] \"B = 0.1, 0.3, 105.832598831428, 0.91776398463229, 0.891889664868425, 1.01827839638155, 0.987039113978442, 0.991073969573528, 1.12231441680121, 1.23468568886113, 1.22692666798721, 1.06698439928862, 0.927491856079879, 0.805859707578261\"\n",
      "[1] \"lb = 0, 0, 0, 0, 0, 0, 0, 0, 0, 0, 0, 0, 0, 0\"\n",
      "[1] \"ub = 1, 1, Inf, Inf, Inf, Inf, Inf, Inf, Inf, Inf, Inf, Inf, Inf, Inf\"\n",
      "[1] \"algorithm = NLOPT_LN_NELDERMEAD\"\n",
      "[1] \"xtol_rel = 1e-06\"\n",
      "[1] \"xtol_abs = 1e-08\"\n",
      "[1] \"ftol_rel = 1e-08\"\n",
      "[1] \"ftol_abs = 0\"\n",
      "[1] \"Initial parameters:\"\n",
      "[1] \"B = 0.2, 0.01, 0.3, 105.832598831428, 1.00379518657836, 0.91776398463229, 0.891889664868425, 1.01827839638155, 0.987039113978442, 0.991073969573528, 1.12231441680121, 1.23468568886113, 1.22692666798721, 1.06698439928862, 0.927491856079879, 0.805859707578261\"\n",
      "[1] \"lb = 0, 0, 0, 0, -Inf, 0, 0, 0, 0, 0, 0, 0, 0, 0, 0, 0\"\n",
      "[1] \"ub = 1, 1, 1, Inf, Inf, Inf, Inf, Inf, Inf, Inf, Inf, Inf, Inf, Inf, Inf, Inf\"\n",
      "[1] \"algorithm = NLOPT_LN_NELDERMEAD\"\n",
      "[1] \"xtol_rel = 1e-06\"\n",
      "[1] \"xtol_abs = 1e-08\"\n",
      "[1] \"ftol_rel = 1e-08\"\n",
      "[1] \"ftol_abs = 0\"\n",
      "[1] \"Initial parameters:\"\n",
      "[1] \"B = 0.01, 0, 0, 105.832598831428, 1.00379518657836, 0.91776398463229, 0.891889664868425, 1.01827839638155, 0.987039113978442, 0.991073969573528, 1.12231441680121, 1.23468568886113, 1.22692666798721, 1.06698439928862, 0.927491856079879, 0.805859707578261\"\n",
      "[1] \"lb = 0, 0, 0, -Inf, -Inf, 0, 0, 0, 0, 0, 0, 0, 0, 0, 0, 0\"\n",
      "[1] \"ub = 1, 1, 1, Inf, Inf, Inf, Inf, Inf, Inf, Inf, Inf, Inf, Inf, Inf, Inf, Inf\"\n",
      "[1] \"algorithm = NLOPT_LN_NELDERMEAD\"\n",
      "[1] \"xtol_rel = 1e-06\"\n",
      "[1] \"xtol_abs = 1e-08\"\n",
      "[1] \"ftol_rel = 1e-08\"\n",
      "[1] \"ftol_abs = 0\"\n",
      "[1] \"Initial parameters:\"\n",
      "[1] \"B = 0.01, 0, 0, 0.95, 105.832598831428, 1.00379518657836, 0.91776398463229, 0.891889664868425, 1.01827839638155, 0.987039113978442, 0.991073969573528, 1.12231441680121, 1.23468568886113, 1.22692666798721, 1.06698439928862, 0.927491856079879, 0.805859707578261\"\n",
      "[1] \"lb = 0, 0, 0, 0, -Inf, -Inf, 0, 0, 0, 0, 0, 0, 0, 0, 0, 0, 0\"\n",
      "[1] \"ub = 1, 1, 1, 1, Inf, Inf, Inf, Inf, Inf, Inf, Inf, Inf, Inf, Inf, Inf, Inf, Inf\"\n",
      "[1] \"algorithm = NLOPT_LN_NELDERMEAD\"\n",
      "[1] \"xtol_rel = 1e-06\"\n",
      "[1] \"xtol_abs = 1e-08\"\n",
      "[1] \"ftol_rel = 1e-08\"\n",
      "[1] \"ftol_abs = 0\"\n",
      "[1] \"Initial parameters:\"\n",
      "[1] \"B = 0.2, 0.01, 0.3, 0.95, 105.832598831428, 1.00379518657836, 0.91776398463229, 0.891889664868425, 1.01827839638155, 0.987039113978442, 0.991073969573528, 1.12231441680121, 1.23468568886113, 1.22692666798721, 1.06698439928862, 0.927491856079879, 0.805859707578261\"\n",
      "[1] \"lb = 0, 0, 0, 0, 0, -Inf, 0, 0, 0, 0, 0, 0, 0, 0, 0, 0, 0\"\n",
      "[1] \"ub = 1, 1, 1, 1, Inf, Inf, Inf, Inf, Inf, Inf, Inf, Inf, Inf, Inf, Inf, Inf, Inf\"\n",
      "[1] \"algorithm = NLOPT_LN_NELDERMEAD\"\n",
      "[1] \"xtol_rel = 1e-06\"\n",
      "[1] \"xtol_abs = 1e-08\"\n",
      "[1] \"ftol_rel = 1e-08\"\n",
      "[1] \"ftol_abs = 0\"\n",
      "Time Series:\n",
      "Start = 145 \n",
      "End = 156 \n",
      "Frequency = 1 \n",
      " [1] 446.7459 421.4609 475.5442 499.7108 512.9283 585.3012 675.1290 666.5617\n",
      " [9] 553.7605 491.4647 419.3779 463.9660\n"
     ]
    }
   ],
   "source": [
    "%%R -i ts_df\n",
    "#library(smooth)\n",
    "\n",
    "model <- adam(ts_df, model = \"ZXZ\", lags = c(12))\n",
    "\n",
    "forecast(model, h = 12)"
   ]
  },
  {
   "cell_type": "code",
   "execution_count": 22,
   "metadata": {},
   "outputs": [],
   "source": [
    "model = \"ANN\"\n",
    "lags = [12]\n",
    "multisteps = False,\n",
    "lb = None,\n",
    "ub = None,\n",
    "maxtime = None,\n",
    "print_level = 1, # 1 or 0\n",
    "maxeval = None,\n",
    "h = 12\n",
    "\n",
    "\n",
    "\n",
    "# Assume that the model is not provided\n",
    "# these will be default arguments\n",
    "profiles_recent_provided = False\n",
    "profiles_recent_table = None\n"
   ]
  },
  {
   "cell_type": "code",
   "execution_count": null,
   "metadata": {},
   "outputs": [],
   "source": [
    "import time\n",
    "\n",
    "start_time = time.time()\n",
    "adam = Adam(model, lags)\n",
    "adam.fit(ts_df, h = h)\n",
    "fc = adam.predict()\n",
    "execution_time = time.time() - start_time\n",
    "print(f\"Execution time: {execution_time:.4f} seconds\")\n",
    "fc['forecast']"
   ]
  },
  {
   "cell_type": "code",
   "execution_count": 10,
   "metadata": {},
   "outputs": [
    {
     "data": {
      "text/plain": [
       "{'B': array([ 1.        , 64.99718964]),\n",
       " 'CF_value': 134.80985033320076,\n",
       " 'n_param_estimated': 2,\n",
       " 'log_lik_adam_value': {'value': np.float64(-134.80985033320076),\n",
       "  'nobs': 24,\n",
       "  'df': 3},\n",
       " 'arima_polynomials': None}"
      ]
     },
     "execution_count": 10,
     "metadata": {},
     "output_type": "execute_result"
    }
   ],
   "source": [
    "adam.adam_estimated"
   ]
  },
  {
   "cell_type": "code",
   "execution_count": 11,
   "metadata": {},
   "outputs": [
    {
     "data": {
      "text/plain": [
       "[True]"
      ]
     },
     "execution_count": 11,
     "metadata": {},
     "output_type": "execute_result"
    }
   ],
   "source": [
    "fc['initial_estimated']"
   ]
  }
 ],
 "metadata": {
  "kernelspec": {
   "display_name": ".venv",
   "language": "python",
   "name": "python3"
  },
  "language_info": {
   "codemirror_mode": {
    "name": "ipython",
    "version": 3
   },
   "file_extension": ".py",
   "mimetype": "text/x-python",
   "name": "python",
   "nbconvert_exporter": "python",
   "pygments_lexer": "ipython3",
   "version": "3.10.12"
  }
 },
 "nbformat": 4,
 "nbformat_minor": 2
}
