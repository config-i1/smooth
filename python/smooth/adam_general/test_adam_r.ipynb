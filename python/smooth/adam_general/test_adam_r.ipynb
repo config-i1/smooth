{
 "cells": [
  {
   "cell_type": "code",
   "execution_count": 1,
   "metadata": {},
   "outputs": [],
   "source": [
    "from core.adam import Adam\n"
   ]
  },
  {
   "cell_type": "code",
   "execution_count": 2,
   "metadata": {},
   "outputs": [],
   "source": [
    "import pandas as pd\n",
    "import numpy as np\n",
    "from core.checker import parameters_checker\n",
    "from typing import List, Union, Dict, Any\n",
    "from smooth.adam_general._adam_general import adam_fitter, adam_forecaster\n",
    "from core.utils.utils import measurement_inverter, scaler, calculate_likelihood, calculate_entropy, calculate_multistep_loss\n",
    "from numpy.linalg import eigvals\n",
    "import nlopt\n"
   ]
  },
  {
   "cell_type": "code",
   "execution_count": 3,
   "metadata": {},
   "outputs": [],
   "source": [
    "from core.estimator import estimator, selector\n",
    "from core.creator import creator, initialiser, architector, filler\n",
    "from core.utils.ic import ic_function\n",
    "\n",
    "from smooth.adam_general._adam_general import adam_fitter, adam_forecaster\n",
    "\n",
    "import warnings"
   ]
  },
  {
   "cell_type": "code",
   "execution_count": 4,
   "metadata": {},
   "outputs": [
    {
     "name": "stderr",
     "output_type": "stream",
     "text": [
      "/tmp/ipykernel_125724/4282208315.py:5: FutureWarning: 'M' is deprecated and will be removed in a future version, please use 'ME' instead.\n",
      "  dates = pd.date_range(start='2023-01-01', periods=n_points, freq='M')  # Monthly frequency\n"
     ]
    }
   ],
   "source": [
    "# Generate random monthly time series data\n",
    "np.random.seed(41)  # For reproducibility\n",
    "n_points = 24  # 2 years of monthly data\n",
    "time_series = np.random.randint(1, 100, size=n_points).cumsum()  # Random walk with strictly positive integers\n",
    "dates = pd.date_range(start='2023-01-01', periods=n_points, freq='M')  # Monthly frequency\n",
    "ts_df = pd.DataFrame({'value': time_series}, index=dates)\n"
   ]
  },
  {
   "cell_type": "code",
   "execution_count": null,
   "metadata": {},
   "outputs": [],
   "source": []
  },
  {
   "cell_type": "code",
   "execution_count": 5,
   "metadata": {},
   "outputs": [],
   "source": [
    "%load_ext rpy2.ipython"
   ]
  },
  {
   "cell_type": "code",
   "execution_count": 6,
   "metadata": {},
   "outputs": [
    {
     "name": "stdout",
     "output_type": "stream",
     "text": [
      "ℹ Loading smooth\n"
     ]
    },
    {
     "name": "stderr",
     "output_type": "stream",
     "text": [
      "R[write to console]: Loading required package: greybox\n",
      "\n",
      "R[write to console]: Package \"greybox\", v2.0.3 loaded.\n",
      "\n",
      "\n",
      "R[write to console]: This is package \"smooth\", v4.1.2.41003\n",
      "\n",
      "\n",
      "R[write to console]: In addition: \n",
      "R[write to console]: Warning message:\n",
      "\n",
      "R[write to console]: In (function (package, help, pos = 2, lib.loc = NULL, character.only = FALSE,  :\n",
      "R[write to console]: \n",
      " \n",
      "R[write to console]:  library ‘/usr/lib/R/site-library’ contains no packages\n",
      "\n"
     ]
    },
    {
     "name": "stdout",
     "output_type": "stream",
     "text": [
      "Smooth package loaded in development mode\n"
     ]
    }
   ],
   "source": [
    "import rpy2.robjects as ro\n",
    "from rpy2.robjects.packages import importr\n",
    "import os\n",
    "\n",
    "def load_smooth_dev():\n",
    "    \"\"\"Load the smooth package in development mode\"\"\"\n",
    "    # Path to your smooth package\n",
    "    smooth_path = \"/home/filtheo/smooth\"  # Adjust this path if needed\n",
    "    \n",
    "    # Load devtools and then load_all() the smooth package\n",
    "    ro.r(f'''\n",
    "    if (!requireNamespace(\"devtools\", quietly=TRUE)) {{\n",
    "        install.packages(\"devtools\", repos=\"https://cran.rstudio.com/\")\n",
    "    }}\n",
    "    devtools::load_all(\"{smooth_path}\")\n",
    "    ''')\n",
    "    \n",
    "    print(\"Smooth package loaded in development mode\")\n",
    "\n",
    "# Load the package in development mode\n",
    "load_smooth_dev()\n",
    "\n",
    "# Now you can access functions from the package\n",
    "# For example:\n",
    "# adam_function = ro.r('adam')"
   ]
  },
  {
   "cell_type": "code",
   "execution_count": 7,
   "metadata": {},
   "outputs": [
    {
     "name": "stderr",
     "output_type": "stream",
     "text": [
      "/tmp/ipykernel_125724/2873142698.py:4: FutureWarning: 'M' is deprecated and will be removed in a future version, please use 'ME' instead.\n",
      "  dates = pd.date_range(start='2023-01-01', periods=n_points, freq='M')  # Monthly frequency\n"
     ]
    }
   ],
   "source": [
    "np.random.seed(33)  # For reproducibility\n",
    "n_points = 39  # 2 years of monthly data\n",
    "time_series = np.random.randint(1, 100, size=n_points).cumsum()  # Random walk with strictly positive integers\n",
    "dates = pd.date_range(start='2023-01-01', periods=n_points, freq='M')  # Monthly frequency\n",
    "ts_df = pd.DataFrame({'value': time_series}, index=dates)"
   ]
  },
  {
   "cell_type": "code",
   "execution_count": 8,
   "metadata": {},
   "outputs": [
    {
     "name": "stdout",
     "output_type": "stream",
     "text": [
      "NULL\n"
     ]
    }
   ],
   "source": [
    "%%R -i ts_df\n",
    "#library(smooth)\n",
    "\n",
    "#model <- adam(ts_df, model = \"ANN\", lags = c(12), print_level = 42)\n",
    "\n",
    "#forecast(model, h = 12)\n",
    "\n",
    "\n"
   ]
  },
  {
   "cell_type": "code",
   "execution_count": 9,
   "metadata": {},
   "outputs": [
    {
     "name": "stdout",
     "output_type": "stream",
     "text": [
      "AirPassengers dataset loaded:\n",
      "            value\n",
      "1949-01-01    112\n",
      "1949-02-01    118\n",
      "1949-03-01    132\n",
      "1949-04-01    129\n",
      "1949-05-01    121\n"
     ]
    }
   ],
   "source": [
    "# Load the AirPassengers dataset from Python\n",
    "import pandas as pd\n",
    "import numpy as np\n",
    "# Create the AirPassengers dataset manually\n",
    "data = [\n",
    "    112, 118, 132, 129, 121, 135, 148, 148, 136, 119, 104, 118,\n",
    "    115, 126, 141, 135, 125, 149, 170, 170, 158, 133, 114, 140,\n",
    "    145, 150, 178, 163, 172, 178, 199, 199, 184, 162, 146, 166,\n",
    "    171, 180, 193, 181, 183, 218, 230, 242, 209, 191, 172, 194,\n",
    "    196, 196, 236, 235, 229, 243, 264, 272, 237, 211, 180, 201,\n",
    "    204, 188, 235, 227, 234, 264, 302, 293, 259, 229, 203, 229,\n",
    "    242, 233, 267, 269, 270, 315, 364, 347, 312, 274, 237, 278,\n",
    "    284, 277, 317, 313, 318, 374, 413, 405, 355, 306, 271, 306,\n",
    "    315, 301, 356, 348, 355, 422, 465, 467, 404, 347, 305, 336,\n",
    "    340, 318, 362, 348, 363, 435, 491, 505, 404, 359, 310, 337,\n",
    "    360, 342, 406, 396, 420, 472, 548, 559, 463, 407, 362, 405,\n",
    "    417, 391, 419, 461, 472, 535, 622, 606, 508, 461, 390, 432\n",
    "]\n",
    "\n",
    "# Create a proper datetime index\n",
    "dates = pd.date_range(start='1949-01-01', periods=len(data), freq='MS')\n",
    "\n",
    "# Create a pandas Series with the data\n",
    "air_passengers_series = pd.Series(data, index=dates, name='AirPassengers')\n",
    "\n",
    "# Create a DataFrame with the time series\n",
    "ts_df = pd.DataFrame({'value': air_passengers_series})\n",
    "\n",
    "print(\"AirPassengers dataset loaded:\")\n",
    "print(ts_df.head())\n",
    "\n"
   ]
  },
  {
   "cell_type": "code",
   "execution_count": null,
   "metadata": {},
   "outputs": [
    {
     "name": "stdout",
     "output_type": "stream",
     "text": [
      "NULL\n"
     ]
    }
   ],
   "source": [
    "%%R -i ts_df\n",
    "#library(smooth)\n",
    "\n",
    "#model <- adam(ts_df, model = \"AAA\", lags = c(12), h = 12)\n",
    "\n",
    "#forecast(model, h = 12)\n",
    "\n",
    "\n"
   ]
  },
  {
   "cell_type": "code",
   "execution_count": 11,
   "metadata": {},
   "outputs": [],
   "source": [
    "#%%R -i ts_df\n",
    "#library(smooth)\n",
    "\n",
    "##model <- adam(ts_df, model = \"MAM\", lags = c(12), h = 12)\n",
    "\n",
    "#forecast(model, h = 12)\n"
   ]
  },
  {
   "cell_type": "code",
   "execution_count": 16,
   "metadata": {},
   "outputs": [
    {
     "name": "stdout",
     "output_type": "stream",
     "text": [
      "Time Series:\n",
      "Start = 145 \n",
      "End = 156 \n",
      "Frequency = 1 \n",
      " [1] 446.7459 421.4609 475.5442 499.7108 512.9283 585.3012 675.1290 666.5617\n",
      " [9] 553.7605 491.4647 419.3779 463.9660\n"
     ]
    }
   ],
   "source": [
    "%%R -i ts_df\n",
    "#library(smooth)\n",
    "\n",
    "model <- adam(ts_df, model = \"ZXZ\", lags = c(12), h = 12)\n",
    "\n",
    "forecast(model, h = 12)"
   ]
  },
  {
   "cell_type": "code",
   "execution_count": 14,
   "metadata": {},
   "outputs": [
    {
     "name": "stdout",
     "output_type": "stream",
     "text": [
      "Time Series:\n",
      "Start = 145 \n",
      "End = 156 \n",
      "Frequency = 1 \n",
      " [1] 446.7459 421.4609 475.5442 499.7108 512.9283 585.3012 675.1290 666.5617\n",
      " [9] 553.7605 491.4647 419.3779 463.9660\n"
     ]
    }
   ],
   "source": [
    "%%R -i ts_df\n",
    "#library(smooth)\n",
    "\n",
    "model <- adam(ts_df, model = \"MAM\", lags = c(12), h = 12)\n",
    "\n",
    "forecast(model, h = 12)\n",
    "#model$matVt"
   ]
  },
  {
   "cell_type": "code",
   "execution_count": 13,
   "metadata": {},
   "outputs": [
    {
     "name": "stdout",
     "output_type": "stream",
     "text": [
      "$lagsModel\n",
      "     [,1]\n",
      "[1,]    1\n",
      "[2,]    1\n",
      "[3,]   12\n",
      "\n",
      "$lagsModelAll\n",
      "     [,1]\n",
      "[1,]    1\n",
      "[2,]    1\n",
      "[3,]   12\n",
      "\n",
      "$lagsModelMax\n",
      "[1] 12\n",
      "\n",
      "$componentsNumberETS\n",
      "[1] 3\n",
      "\n",
      "$componentsNumberETSSeasonal\n",
      "[1] 1\n",
      "\n",
      "$componentsNumberETSNonSeasonal\n",
      "[1] 2\n",
      "\n",
      "$componentsNamesETS\n",
      "[1] \"level\"    \"trend\"    \"seasonal\"\n",
      "\n",
      "$obsStates\n",
      "[1] 156\n",
      "\n",
      "$modelIsTrendy\n",
      "[1] TRUE\n",
      "\n",
      "$modelIsSeasonal\n",
      "[1] TRUE\n",
      "\n",
      "$indexLookupTable\n",
      "   [,1] [,2] [,3] [,4] [,5] [,6] [,7] [,8] [,9] [,10] [,11] [,12] [,13] [,14]\n",
      "1     0    0    0    0    0    0    0    0    0     0     0     0     0     0\n",
      "1     1    1    1    1    1    1    1    1    1     1     1     1     1     1\n",
      "12    2    5    8   11   14   17   20   23   26    29    32    35     2     5\n",
      "   [,15] [,16] [,17] [,18] [,19] [,20] [,21] [,22] [,23] [,24] [,25] [,26]\n",
      "1      0     0     0     0     0     0     0     0     0     0     0     0\n",
      "1      1     1     1     1     1     1     1     1     1     1     1     1\n",
      "12     8    11    14    17    20    23    26    29    32    35     2     5\n",
      "   [,27] [,28] [,29] [,30] [,31] [,32] [,33] [,34] [,35] [,36] [,37] [,38]\n",
      "1      0     0     0     0     0     0     0     0     0     0     0     0\n",
      "1      1     1     1     1     1     1     1     1     1     1     1     1\n",
      "12     8    11    14    17    20    23    26    29    32    35     2     5\n",
      "   [,39] [,40] [,41] [,42] [,43] [,44] [,45] [,46] [,47] [,48] [,49] [,50]\n",
      "1      0     0     0     0     0     0     0     0     0     0     0     0\n",
      "1      1     1     1     1     1     1     1     1     1     1     1     1\n",
      "12     8    11    14    17    20    23    26    29    32    35     2     5\n",
      "   [,51] [,52] [,53] [,54] [,55] [,56] [,57] [,58] [,59] [,60] [,61] [,62]\n",
      "1      0     0     0     0     0     0     0     0     0     0     0     0\n",
      "1      1     1     1     1     1     1     1     1     1     1     1     1\n",
      "12     8    11    14    17    20    23    26    29    32    35     2     5\n",
      "   [,63] [,64] [,65] [,66] [,67] [,68] [,69] [,70] [,71] [,72] [,73] [,74]\n",
      "1      0     0     0     0     0     0     0     0     0     0     0     0\n",
      "1      1     1     1     1     1     1     1     1     1     1     1     1\n",
      "12     8    11    14    17    20    23    26    29    32    35     2     5\n",
      "   [,75] [,76] [,77] [,78] [,79] [,80] [,81] [,82] [,83] [,84] [,85] [,86]\n",
      "1      0     0     0     0     0     0     0     0     0     0     0     0\n",
      "1      1     1     1     1     1     1     1     1     1     1     1     1\n",
      "12     8    11    14    17    20    23    26    29    32    35     2     5\n",
      "   [,87] [,88] [,89] [,90] [,91] [,92] [,93] [,94] [,95] [,96] [,97] [,98]\n",
      "1      0     0     0     0     0     0     0     0     0     0     0     0\n",
      "1      1     1     1     1     1     1     1     1     1     1     1     1\n",
      "12     8    11    14    17    20    23    26    29    32    35     2     5\n",
      "   [,99] [,100] [,101] [,102] [,103] [,104] [,105] [,106] [,107] [,108] [,109]\n",
      "1      0      0      0      0      0      0      0      0      0      0      0\n",
      "1      1      1      1      1      1      1      1      1      1      1      1\n",
      "12     8     11     14     17     20     23     26     29     32     35      2\n",
      "   [,110] [,111] [,112] [,113] [,114] [,115] [,116] [,117] [,118] [,119] [,120]\n",
      "1       0      0      0      0      0      0      0      0      0      0      0\n",
      "1       1      1      1      1      1      1      1      1      1      1      1\n",
      "12      5      8     11     14     17     20     23     26     29     32     35\n",
      "   [,121] [,122] [,123] [,124] [,125] [,126] [,127] [,128] [,129] [,130] [,131]\n",
      "1       0      0      0      0      0      0      0      0      0      0      0\n",
      "1       1      1      1      1      1      1      1      1      1      1      1\n",
      "12      2      5      8     11     14     17     20     23     26     29     32\n",
      "   [,132] [,133] [,134] [,135] [,136] [,137] [,138] [,139] [,140] [,141] [,142]\n",
      "1       0      0      0      0      0      0      0      0      0      0      0\n",
      "1       1      1      1      1      1      1      1      1      1      1      1\n",
      "12     35      2      5      8     11     14     17     20     23     26     29\n",
      "   [,143] [,144] [,145] [,146] [,147] [,148] [,149] [,150] [,151] [,152] [,153]\n",
      "1       0      0      0      0      0      0      0      0      0      0      0\n",
      "1       1      1      1      1      1      1      1      1      1      1      1\n",
      "12     32     35      2      5      8     11     14     17     20     23     26\n",
      "   [,154] [,155] [,156] [,157] [,158] [,159] [,160] [,161] [,162] [,163] [,164]\n",
      "1       0      0      0      0      0      0      0      0      0      0      0\n",
      "1       1      1      1      1      1      1      1      1      1      1      1\n",
      "12     29     32     35      2      5      8     11     14     17     20     23\n",
      "   [,165] [,166] [,167] [,168]\n",
      "1       0      0      0      0\n",
      "1       1      1      1      1\n",
      "12     26     29     32     35\n",
      "\n",
      "$profilesRecentTable\n",
      "   [,1] [,2] [,3] [,4] [,5] [,6] [,7] [,8] [,9] [,10] [,11] [,12]\n",
      "1     1    0    0    0    0    0    0    0    0     0     0     0\n",
      "1     1    0    0    0    0    0    0    0    0     0     0     0\n",
      "12    1    2    3    4    5    6    7    8    9    10    11    12\n",
      "\n",
      "Time Series:\n",
      "Start = 145 \n",
      "End = 156 \n",
      "Frequency = 1 \n",
      " [1] 454.2558 429.9175 467.0936 503.7717 512.9642 572.6031 653.5556 638.2791\n",
      " [9] 540.5708 491.6524 425.1442 470.1898\n"
     ]
    }
   ],
   "source": [
    "%%R -i ts_df\n",
    "#library(smooth)\n",
    "\n",
    "model <- adam(ts_df, model = \"AAdA\", lags = c(12), h = 12)\n",
    "\n",
    "forecast(model, h = 12)\n",
    "#model$matVt"
   ]
  },
  {
   "cell_type": "code",
   "execution_count": 13,
   "metadata": {},
   "outputs": [
    {
     "name": "stdout",
     "output_type": "stream",
     "text": [
      "\n",
      "Error in attr(x, \"tsp\") <- c(1, NROW(x), 1) : \n",
      "  invalid time series parameters specified\n"
     ]
    },
    {
     "ename": "RInterpreterError",
     "evalue": "Failed to parse and evaluate line '#library(smooth)\\n\\nmodel <- adam(ts_df, model = \"ZXZ\", lags = c(12))\\n\\nforecast(model, h = 12)\\n'.\nR error message: 'Error in attr(x, \"tsp\") <- c(1, NROW(x), 1) : \\n  invalid time series parameters specified'",
     "output_type": "error",
     "traceback": [
      "\u001b[0;31m---------------------------------------------------------------------------\u001b[0m",
      "\u001b[0;31mRRuntimeError\u001b[0m                             Traceback (most recent call last)",
      "File \u001b[0;32m~/smooth/.venv/lib/python3.10/site-packages/rpy2/ipython/rmagic.py:407\u001b[0m, in \u001b[0;36mRMagics.eval\u001b[0;34m(self, code)\u001b[0m\n\u001b[1;32m    406\u001b[0m     r_expr \u001b[38;5;241m=\u001b[39m ri\u001b[38;5;241m.\u001b[39mparse(code)\n\u001b[0;32m--> 407\u001b[0m     value, visible \u001b[38;5;241m=\u001b[39m \u001b[43mri\u001b[49m\u001b[38;5;241;43m.\u001b[39;49m\u001b[43mevalr_expr_with_visible\u001b[49m\u001b[43m(\u001b[49m\n\u001b[1;32m    408\u001b[0m \u001b[43m        \u001b[49m\u001b[43mr_expr\u001b[49m\n\u001b[1;32m    409\u001b[0m \u001b[43m    \u001b[49m\u001b[43m)\u001b[49m\n\u001b[1;32m    410\u001b[0m \u001b[38;5;28;01mexcept\u001b[39;00m (ri\u001b[38;5;241m.\u001b[39membedded\u001b[38;5;241m.\u001b[39mRRuntimeError, \u001b[38;5;167;01mValueError\u001b[39;00m) \u001b[38;5;28;01mas\u001b[39;00m exception:\n\u001b[1;32m    411\u001b[0m     \u001b[38;5;66;03m# Otherwise next return seems to have copy of error.\u001b[39;00m\n",
      "File \u001b[0;32m~/smooth/.venv/lib/python3.10/site-packages/rpy2/rinterface.py:194\u001b[0m, in \u001b[0;36mevalr_expr_with_visible\u001b[0;34m(expr, envir)\u001b[0m\n\u001b[1;32m    193\u001b[0m \u001b[38;5;28;01mif\u001b[39;00m error_occured[\u001b[38;5;241m0\u001b[39m]:\n\u001b[0;32m--> 194\u001b[0m     \u001b[38;5;28;01mraise\u001b[39;00m embedded\u001b[38;5;241m.\u001b[39mRRuntimeError(_rinterface\u001b[38;5;241m.\u001b[39m_geterrmessage())\n\u001b[1;32m    195\u001b[0m res \u001b[38;5;241m=\u001b[39m conversion\u001b[38;5;241m.\u001b[39m_cdata_to_rinterface(r_res)\n",
      "\u001b[0;31mRRuntimeError\u001b[0m: Error in attr(x, \"tsp\") <- c(1, NROW(x), 1) : \n  invalid time series parameters specified\n",
      "\nDuring handling of the above exception, another exception occurred:\n",
      "\u001b[0;31mRInterpreterError\u001b[0m                         Traceback (most recent call last)",
      "Cell \u001b[0;32mIn[13], line 1\u001b[0m\n\u001b[0;32m----> 1\u001b[0m \u001b[43mget_ipython\u001b[49m\u001b[43m(\u001b[49m\u001b[43m)\u001b[49m\u001b[38;5;241;43m.\u001b[39;49m\u001b[43mrun_cell_magic\u001b[49m\u001b[43m(\u001b[49m\u001b[38;5;124;43m'\u001b[39;49m\u001b[38;5;124;43mR\u001b[39;49m\u001b[38;5;124;43m'\u001b[39;49m\u001b[43m,\u001b[49m\u001b[43m \u001b[49m\u001b[38;5;124;43m'\u001b[39;49m\u001b[38;5;124;43m-i ts_df\u001b[39;49m\u001b[38;5;124;43m'\u001b[39;49m\u001b[43m,\u001b[49m\u001b[43m \u001b[49m\u001b[38;5;124;43m'\u001b[39;49m\u001b[38;5;124;43m#library(smooth)\u001b[39;49m\u001b[38;5;130;43;01m\\n\u001b[39;49;00m\u001b[38;5;130;43;01m\\n\u001b[39;49;00m\u001b[38;5;124;43mmodel <- adam(ts_df, model = \u001b[39;49m\u001b[38;5;124;43m\"\u001b[39;49m\u001b[38;5;124;43mZXZ\u001b[39;49m\u001b[38;5;124;43m\"\u001b[39;49m\u001b[38;5;124;43m, lags = c(12))\u001b[39;49m\u001b[38;5;130;43;01m\\n\u001b[39;49;00m\u001b[38;5;130;43;01m\\n\u001b[39;49;00m\u001b[38;5;124;43mforecast(model, h = 12)\u001b[39;49m\u001b[38;5;130;43;01m\\n\u001b[39;49;00m\u001b[38;5;124;43m'\u001b[39;49m\u001b[43m)\u001b[49m\n",
      "File \u001b[0;32m~/smooth/.venv/lib/python3.10/site-packages/IPython/core/interactiveshell.py:2543\u001b[0m, in \u001b[0;36mInteractiveShell.run_cell_magic\u001b[0;34m(self, magic_name, line, cell)\u001b[0m\n\u001b[1;32m   2541\u001b[0m \u001b[38;5;28;01mwith\u001b[39;00m \u001b[38;5;28mself\u001b[39m\u001b[38;5;241m.\u001b[39mbuiltin_trap:\n\u001b[1;32m   2542\u001b[0m     args \u001b[38;5;241m=\u001b[39m (magic_arg_s, cell)\n\u001b[0;32m-> 2543\u001b[0m     result \u001b[38;5;241m=\u001b[39m \u001b[43mfn\u001b[49m\u001b[43m(\u001b[49m\u001b[38;5;241;43m*\u001b[39;49m\u001b[43margs\u001b[49m\u001b[43m,\u001b[49m\u001b[43m \u001b[49m\u001b[38;5;241;43m*\u001b[39;49m\u001b[38;5;241;43m*\u001b[39;49m\u001b[43mkwargs\u001b[49m\u001b[43m)\u001b[49m\n\u001b[1;32m   2545\u001b[0m \u001b[38;5;66;03m# The code below prevents the output from being displayed\u001b[39;00m\n\u001b[1;32m   2546\u001b[0m \u001b[38;5;66;03m# when using magics with decorator @output_can_be_silenced\u001b[39;00m\n\u001b[1;32m   2547\u001b[0m \u001b[38;5;66;03m# when the last Python token in the expression is a ';'.\u001b[39;00m\n\u001b[1;32m   2548\u001b[0m \u001b[38;5;28;01mif\u001b[39;00m \u001b[38;5;28mgetattr\u001b[39m(fn, magic\u001b[38;5;241m.\u001b[39mMAGIC_OUTPUT_CAN_BE_SILENCED, \u001b[38;5;28;01mFalse\u001b[39;00m):\n",
      "File \u001b[0;32m~/smooth/.venv/lib/python3.10/site-packages/rpy2/ipython/rmagic.py:984\u001b[0m, in \u001b[0;36mRMagics.R\u001b[0;34m(self, line, cell, local_ns)\u001b[0m\n\u001b[1;32m    982\u001b[0m     \u001b[38;5;28;01mif\u001b[39;00m \u001b[38;5;129;01mnot\u001b[39;00m e\u001b[38;5;241m.\u001b[39mstdout\u001b[38;5;241m.\u001b[39mendswith(e\u001b[38;5;241m.\u001b[39merr):\n\u001b[1;32m    983\u001b[0m         \u001b[38;5;28mprint\u001b[39m(e\u001b[38;5;241m.\u001b[39merr)\n\u001b[0;32m--> 984\u001b[0m     \u001b[38;5;28;01mraise\u001b[39;00m e\n\u001b[1;32m    985\u001b[0m \u001b[38;5;28;01mfinally\u001b[39;00m:\n\u001b[1;32m    986\u001b[0m     \u001b[38;5;28;01mif\u001b[39;00m \u001b[38;5;28mself\u001b[39m\u001b[38;5;241m.\u001b[39mdevice \u001b[38;5;129;01min\u001b[39;00m DEVICES_STATIC:\n",
      "File \u001b[0;32m~/smooth/.venv/lib/python3.10/site-packages/rpy2/ipython/rmagic.py:949\u001b[0m, in \u001b[0;36mRMagics.R\u001b[0;34m(self, line, cell, local_ns)\u001b[0m\n\u001b[1;32m    947\u001b[0m         return_output \u001b[38;5;241m=\u001b[39m \u001b[38;5;28;01mFalse\u001b[39;00m\n\u001b[1;32m    948\u001b[0m \u001b[38;5;28;01melse\u001b[39;00m:\n\u001b[0;32m--> 949\u001b[0m     text_result, result, visible \u001b[38;5;241m=\u001b[39m \u001b[38;5;28;43mself\u001b[39;49m\u001b[38;5;241;43m.\u001b[39;49m\u001b[43meval\u001b[49m\u001b[43m(\u001b[49m\u001b[43mcode\u001b[49m\u001b[43m)\u001b[49m\n\u001b[1;32m    950\u001b[0m     text_output \u001b[38;5;241m+\u001b[39m\u001b[38;5;241m=\u001b[39m text_result\n\u001b[1;32m    951\u001b[0m     \u001b[38;5;28;01mif\u001b[39;00m visible:\n",
      "File \u001b[0;32m~/smooth/.venv/lib/python3.10/site-packages/rpy2/ipython/rmagic.py:413\u001b[0m, in \u001b[0;36mRMagics.eval\u001b[0;34m(self, code)\u001b[0m\n\u001b[1;32m    410\u001b[0m \u001b[38;5;28;01mexcept\u001b[39;00m (ri\u001b[38;5;241m.\u001b[39membedded\u001b[38;5;241m.\u001b[39mRRuntimeError, \u001b[38;5;167;01mValueError\u001b[39;00m) \u001b[38;5;28;01mas\u001b[39;00m exception:\n\u001b[1;32m    411\u001b[0m     \u001b[38;5;66;03m# Otherwise next return seems to have copy of error.\u001b[39;00m\n\u001b[1;32m    412\u001b[0m     warning_or_other_msg \u001b[38;5;241m=\u001b[39m \u001b[38;5;28mself\u001b[39m\u001b[38;5;241m.\u001b[39mflush()\n\u001b[0;32m--> 413\u001b[0m     \u001b[38;5;28;01mraise\u001b[39;00m RInterpreterError(code, \u001b[38;5;28mstr\u001b[39m(exception),\n\u001b[1;32m    414\u001b[0m                             warning_or_other_msg)\n\u001b[1;32m    415\u001b[0m \u001b[38;5;28;01mfinally\u001b[39;00m:\n\u001b[1;32m    416\u001b[0m     ro\u001b[38;5;241m.\u001b[39m_print_deferred_warnings()\n",
      "\u001b[0;31mRInterpreterError\u001b[0m: Failed to parse and evaluate line '#library(smooth)\\n\\nmodel <- adam(ts_df, model = \"ZXZ\", lags = c(12))\\n\\nforecast(model, h = 12)\\n'.\nR error message: 'Error in attr(x, \"tsp\") <- c(1, NROW(x), 1) : \\n  invalid time series parameters specified'"
     ]
    }
   ],
   "source": [
    "%%R -i ts_df\n",
    "#library(smooth)\n",
    "\n",
    "model <- adam(ts_df, model = \"ZXZ\", lags = c(12))\n",
    "\n",
    "forecast(model, h = 12)"
   ]
  },
  {
   "cell_type": "code",
   "execution_count": 22,
   "metadata": {},
   "outputs": [],
   "source": [
    "model = \"ANN\"\n",
    "lags = [12]\n",
    "multisteps = False,\n",
    "lb = None,\n",
    "ub = None,\n",
    "maxtime = None,\n",
    "print_level = 1, # 1 or 0\n",
    "maxeval = None,\n",
    "h = 12\n",
    "\n",
    "\n",
    "\n",
    "# Assume that the model is not provided\n",
    "# these will be default arguments\n",
    "profiles_recent_provided = False\n",
    "profiles_recent_table = None\n"
   ]
  },
  {
   "cell_type": "code",
   "execution_count": null,
   "metadata": {},
   "outputs": [],
   "source": [
    "import time\n",
    "\n",
    "start_time = time.time()\n",
    "adam = Adam(model, lags)\n",
    "adam.fit(ts_df, h = h)\n",
    "fc = adam.predict()\n",
    "execution_time = time.time() - start_time\n",
    "print(f\"Execution time: {execution_time:.4f} seconds\")\n",
    "fc['forecast']"
   ]
  },
  {
   "cell_type": "code",
   "execution_count": 10,
   "metadata": {},
   "outputs": [
    {
     "data": {
      "text/plain": [
       "{'B': array([ 1.        , 64.99718964]),\n",
       " 'CF_value': 134.80985033320076,\n",
       " 'n_param_estimated': 2,\n",
       " 'log_lik_adam_value': {'value': np.float64(-134.80985033320076),\n",
       "  'nobs': 24,\n",
       "  'df': 3},\n",
       " 'arima_polynomials': None}"
      ]
     },
     "execution_count": 10,
     "metadata": {},
     "output_type": "execute_result"
    }
   ],
   "source": [
    "adam.adam_estimated"
   ]
  },
  {
   "cell_type": "code",
   "execution_count": 11,
   "metadata": {},
   "outputs": [
    {
     "data": {
      "text/plain": [
       "[True]"
      ]
     },
     "execution_count": 11,
     "metadata": {},
     "output_type": "execute_result"
    }
   ],
   "source": [
    "fc['initial_estimated']"
   ]
  }
 ],
 "metadata": {
  "kernelspec": {
   "display_name": ".venv",
   "language": "python",
   "name": "python3"
  },
  "language_info": {
   "codemirror_mode": {
    "name": "ipython",
    "version": 3
   },
   "file_extension": ".py",
   "mimetype": "text/x-python",
   "name": "python",
   "nbconvert_exporter": "python",
   "pygments_lexer": "ipython3",
   "version": "3.10.12"
  }
 },
 "nbformat": 4,
 "nbformat_minor": 2
}
