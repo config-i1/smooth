{
 "cells": [
  {
   "cell_type": "code",
   "execution_count": 42,
   "metadata": {},
   "outputs": [
    {
     "name": "stdout",
     "output_type": "stream",
     "text": [
      "The autoreload extension is already loaded. To reload it, use:\n",
      "  %reload_ext autoreload\n"
     ]
    }
   ],
   "source": [
    "%load_ext autoreload\n",
    "%autoreload 2\n"
   ]
  },
  {
   "cell_type": "code",
   "execution_count": 43,
   "metadata": {},
   "outputs": [],
   "source": [
    "from smooth.adam_general.core.adam import Adam\n",
    "\n",
    "import numpy as np\n",
    "import pandas as pd"
   ]
  },
  {
   "cell_type": "code",
   "execution_count": 44,
   "metadata": {},
   "outputs": [],
   "source": [
    "from typing import List, Union, Dict, Any\n",
    "from smooth.adam_general._adam_general import adam_fitter, adam_forecaster\n",
    "from numpy.linalg import eigvals\n",
    "import nlopt"
   ]
  },
  {
   "cell_type": "code",
   "execution_count": 45,
   "metadata": {},
   "outputs": [],
   "source": [
    "#### Global level and ETS(A,N,N) ####\n",
    "np.random.seed(33)  # For reproducibility\n",
    "n_points = 100\n",
    "time_series = np.random.normal(100, 10, n_points)  # Random errors\n",
    "ts_df = pd.DataFrame({'value': time_series}, index=pd.date_range(start='2023-01-01', periods=n_points, freq='ME'))"
   ]
  },
  {
   "cell_type": "code",
   "execution_count": 46,
   "metadata": {},
   "outputs": [
    {
     "data": {
      "text/html": [
       "<div>\n",
       "<style scoped>\n",
       "    .dataframe tbody tr th:only-of-type {\n",
       "        vertical-align: middle;\n",
       "    }\n",
       "\n",
       "    .dataframe tbody tr th {\n",
       "        vertical-align: top;\n",
       "    }\n",
       "\n",
       "    .dataframe thead th {\n",
       "        text-align: right;\n",
       "    }\n",
       "</style>\n",
       "<table border=\"1\" class=\"dataframe\">\n",
       "  <thead>\n",
       "    <tr style=\"text-align: right;\">\n",
       "      <th></th>\n",
       "      <th>mean</th>\n",
       "      <th>lower_0.025</th>\n",
       "      <th>upper_0.975</th>\n",
       "    </tr>\n",
       "  </thead>\n",
       "  <tbody>\n",
       "    <tr>\n",
       "      <th>2031-05-31</th>\n",
       "      <td>99.619575</td>\n",
       "      <td>NaN</td>\n",
       "      <td>NaN</td>\n",
       "    </tr>\n",
       "    <tr>\n",
       "      <th>2031-06-30</th>\n",
       "      <td>99.619575</td>\n",
       "      <td>NaN</td>\n",
       "      <td>NaN</td>\n",
       "    </tr>\n",
       "    <tr>\n",
       "      <th>2031-07-31</th>\n",
       "      <td>99.619575</td>\n",
       "      <td>NaN</td>\n",
       "      <td>NaN</td>\n",
       "    </tr>\n",
       "    <tr>\n",
       "      <th>2031-08-31</th>\n",
       "      <td>99.619575</td>\n",
       "      <td>NaN</td>\n",
       "      <td>NaN</td>\n",
       "    </tr>\n",
       "    <tr>\n",
       "      <th>2031-09-30</th>\n",
       "      <td>99.619575</td>\n",
       "      <td>NaN</td>\n",
       "      <td>NaN</td>\n",
       "    </tr>\n",
       "    <tr>\n",
       "      <th>2031-10-31</th>\n",
       "      <td>99.619575</td>\n",
       "      <td>NaN</td>\n",
       "      <td>NaN</td>\n",
       "    </tr>\n",
       "    <tr>\n",
       "      <th>2031-11-30</th>\n",
       "      <td>99.619575</td>\n",
       "      <td>NaN</td>\n",
       "      <td>NaN</td>\n",
       "    </tr>\n",
       "    <tr>\n",
       "      <th>2031-12-31</th>\n",
       "      <td>99.619575</td>\n",
       "      <td>NaN</td>\n",
       "      <td>NaN</td>\n",
       "    </tr>\n",
       "    <tr>\n",
       "      <th>2032-01-31</th>\n",
       "      <td>99.619575</td>\n",
       "      <td>NaN</td>\n",
       "      <td>NaN</td>\n",
       "    </tr>\n",
       "    <tr>\n",
       "      <th>2032-02-29</th>\n",
       "      <td>99.619575</td>\n",
       "      <td>NaN</td>\n",
       "      <td>NaN</td>\n",
       "    </tr>\n",
       "    <tr>\n",
       "      <th>2032-03-31</th>\n",
       "      <td>99.619575</td>\n",
       "      <td>NaN</td>\n",
       "      <td>NaN</td>\n",
       "    </tr>\n",
       "    <tr>\n",
       "      <th>2032-04-30</th>\n",
       "      <td>99.619575</td>\n",
       "      <td>NaN</td>\n",
       "      <td>NaN</td>\n",
       "    </tr>\n",
       "  </tbody>\n",
       "</table>\n",
       "</div>"
      ],
      "text/plain": [
       "                 mean  lower_0.025  upper_0.975\n",
       "2031-05-31  99.619575          NaN          NaN\n",
       "2031-06-30  99.619575          NaN          NaN\n",
       "2031-07-31  99.619575          NaN          NaN\n",
       "2031-08-31  99.619575          NaN          NaN\n",
       "2031-09-30  99.619575          NaN          NaN\n",
       "2031-10-31  99.619575          NaN          NaN\n",
       "2031-11-30  99.619575          NaN          NaN\n",
       "2031-12-31  99.619575          NaN          NaN\n",
       "2032-01-31  99.619575          NaN          NaN\n",
       "2032-02-29  99.619575          NaN          NaN\n",
       "2032-03-31  99.619575          NaN          NaN\n",
       "2032-04-30  99.619575          NaN          NaN"
      ]
     },
     "execution_count": 46,
     "metadata": {},
     "output_type": "execute_result"
    }
   ],
   "source": [
    "adam = Adam(model=\"ANN\", lags=[12])\n",
    "adam.fit(ts_df, h = 12)\n",
    "adam.predict()"
   ]
  },
  {
   "cell_type": "code",
   "execution_count": 47,
   "metadata": {},
   "outputs": [],
   "source": [
    "#### Local level and ETS(A,N,N) ####\n",
    "np.random.seed(41)  # For reproducibility\n",
    "n_points = 120\n",
    "errors = np.random.normal(0, 10, n_points)  # Random errors\n",
    "time_series = np.zeros(n_points)\n",
    "time_series[0] = 100\n",
    "for i in range(n_points-1):\n",
    "    # This is SES with alpha=0.1, just in an alternative form\n",
    "    time_series[i+1] = time_series[i] + (0.1-1) * errors[i] + errors[i+1]\n",
    "ts_df = pd.DataFrame({'value': time_series}, index=pd.date_range(start='2023-01-01', periods=n_points, freq='ME'))"
   ]
  },
  {
   "cell_type": "code",
   "execution_count": 48,
   "metadata": {},
   "outputs": [
    {
     "name": "stdout",
     "output_type": "stream",
     "text": [
      "ETS(A,N,N) with alpha=0.1:\n",
      "                 mean  lower_0.025  upper_0.975\n",
      "2033-01-31  83.225986          NaN          NaN\n",
      "2033-02-28  83.225986          NaN          NaN\n",
      "2033-03-31  83.225986          NaN          NaN\n",
      "2033-04-30  83.225986          NaN          NaN\n",
      "2033-05-31  83.225986          NaN          NaN\n",
      "2033-06-30  83.225986          NaN          NaN\n",
      "2033-07-31  83.225986          NaN          NaN\n",
      "2033-08-31  83.225986          NaN          NaN\n",
      "2033-09-30  83.225986          NaN          NaN\n",
      "2033-10-31  83.225986          NaN          NaN\n",
      "2033-11-30  83.225986          NaN          NaN\n",
      "2033-12-31  83.225986          NaN          NaN\n",
      "\n",
      "ETS(A,N,N) with estimated parameters:\n",
      "[6.53178667e-02 9.69906981e+01]\n",
      "                 mean  lower_0.025  upper_0.975\n",
      "2033-01-31  84.708881          NaN          NaN\n",
      "2033-02-28  84.708881          NaN          NaN\n",
      "2033-03-31  84.708881          NaN          NaN\n",
      "2033-04-30  84.708881          NaN          NaN\n",
      "2033-05-31  84.708881          NaN          NaN\n",
      "2033-06-30  84.708881          NaN          NaN\n",
      "2033-07-31  84.708881          NaN          NaN\n",
      "2033-08-31  84.708881          NaN          NaN\n",
      "2033-09-30  84.708881          NaN          NaN\n",
      "2033-10-31  84.708881          NaN          NaN\n",
      "2033-11-30  84.708881          NaN          NaN\n",
      "2033-12-31  84.708881          NaN          NaN\n",
      "\n",
      "ETS(M,N,N) with estimated parameters:\n",
      "                 mean  lower_0.025  upper_0.975\n",
      "2033-01-31  84.838664          NaN          NaN\n",
      "2033-02-28  84.838664          NaN          NaN\n",
      "2033-03-31  84.838664          NaN          NaN\n",
      "2033-04-30  84.838664          NaN          NaN\n",
      "2033-05-31  84.838664          NaN          NaN\n",
      "2033-06-30  84.838664          NaN          NaN\n",
      "2033-07-31  84.838664          NaN          NaN\n",
      "2033-08-31  84.838664          NaN          NaN\n",
      "2033-09-30  84.838664          NaN          NaN\n",
      "2033-10-31  84.838664          NaN          NaN\n",
      "2033-11-30  84.838664          NaN          NaN\n",
      "2033-12-31  84.838664          NaN          NaN\n"
     ]
    }
   ],
   "source": [
    "# ETS(A,N,N) with alpha=0.1\n",
    "model = Adam(model=\"ANN\", lags=[12], persistence=0.1)\n",
    "model.fit(ts_df, h=12)\n",
    "print(\"ETS(A,N,N) with alpha=0.1:\")\n",
    "print(model.predict())\n",
    "\n",
    "# ETS(A,N,N) with estimated alpha \n",
    "model = Adam(model=\"ANN\", lags=[12])\n",
    "model.fit(ts_df, h=12)\n",
    "print(\"\\nETS(A,N,N) with estimated parameters:\")\n",
    "print(model.adam_estimated[\"B\"])\n",
    "print(model.predict())\n",
    "\n",
    "# ETS(M,N,N) with estimated alpha\n",
    "model = Adam(model=\"MNN\", lags=[12], distribution=\"dnorm\")\n",
    "model.fit(ts_df, h=12)\n",
    "print(\"\\nETS(M,N,N) with estimated parameters:\")\n",
    "print(model.predict())\n"
   ]
  },
  {
   "cell_type": "code",
   "execution_count": 49,
   "metadata": {},
   "outputs": [],
   "source": [
    "#### Local trend and ETS(A,A,N) ####\n",
    "np.random.seed(42)  # For reproducibility\n",
    "n_points = 120\n",
    "errors = np.random.normal(0, 10, n_points)  # Random errors\n",
    "trend = np.random.normal(0.5, 2, n_points)  # Random trend\n",
    "time_series = np.zeros(n_points)\n",
    "time_series[0] = 100\n",
    "for i in range(n_points-1):\n",
    "    # This is SES with alpha=0.1, just in an alternative form\n",
    "    time_series[i+1] = time_series[i] + (0.1-1) * errors[i] + trend[i] + errors[i+1]\n",
    "ts_df = pd.DataFrame({'value': time_series}, index=pd.date_range(start='2023-01-01', periods=n_points, freq='ME'))\n"
   ]
  },
  {
   "cell_type": "code",
   "execution_count": 50,
   "metadata": {},
   "outputs": [
    {
     "name": "stdout",
     "output_type": "stream",
     "text": [
      "ETS(A,A,N):\n",
      "                  mean  lower_0.025  upper_0.975\n",
      "2033-01-31  165.255525          NaN          NaN\n",
      "2033-02-28  165.763955          NaN          NaN\n",
      "2033-03-31  166.272384          NaN          NaN\n",
      "2033-04-30  166.780814          NaN          NaN\n",
      "2033-05-31  167.289244          NaN          NaN\n",
      "2033-06-30  167.797674          NaN          NaN\n",
      "2033-07-31  168.306104          NaN          NaN\n",
      "2033-08-31  168.814534          NaN          NaN\n",
      "2033-09-30  169.322963          NaN          NaN\n",
      "2033-10-31  169.831393          NaN          NaN\n",
      "2033-11-30  170.339823          NaN          NaN\n",
      "2033-12-31  170.848253          NaN          NaN\n",
      "\n",
      "ETS(A,Ad,N) estimated parameters:\n",
      "[ 1.68275229e-01  1.04248642e-02  9.86301308e-01  1.04774858e+02\n",
      " -3.80921118e-01]\n",
      "\n",
      "ETS(A,Ad,N):\n",
      "                  mean  lower_0.025  upper_0.975\n",
      "2033-01-31  163.235667          NaN          NaN\n",
      "2033-02-28  163.701313          NaN          NaN\n",
      "2033-03-31  164.140767          NaN          NaN\n",
      "2033-04-30  164.555501          NaN          NaN\n",
      "2033-05-31  164.946905          NaN          NaN\n",
      "2033-06-30  165.316294          NaN          NaN\n",
      "2033-07-31  165.664904          NaN          NaN\n",
      "2033-08-31  165.993904          NaN          NaN\n",
      "2033-09-30  166.304398          NaN          NaN\n",
      "2033-10-31  166.597427          NaN          NaN\n",
      "2033-11-30  166.873972          NaN          NaN\n",
      "2033-12-31  167.134962          NaN          NaN\n"
     ]
    }
   ],
   "source": [
    "# ETS(A,A,N) with fixed parameters\n",
    "model = Adam(model=\"AAN\", lags=[12], persistence=[0.1, 0.02])\n",
    "model.fit(ts_df, h=12)\n",
    "print(\"ETS(A,A,N):\")\n",
    "print(model.predict())\n",
    "\n",
    "# ETS(A,Ad,N) with estimated parameters\n",
    "model = Adam(model=\"AAdN\", lags=[12])\n",
    "model.fit(ts_df, h=12)\n",
    "print(\"\\nETS(A,Ad,N) estimated parameters:\")\n",
    "print(model.adam_estimated[\"B\"])\n",
    "\n",
    "# ETS(A,Ad,N) with fixed parameters\n",
    "model = Adam(model=\"AAdN\", lags=[12], persistence=[0.1, 0.02])\n",
    "model.fit(ts_df, h=12)\n",
    "print(\"\\nETS(A,Ad,N):\")\n",
    "print(model.predict())"
   ]
  },
  {
   "cell_type": "code",
   "execution_count": 51,
   "metadata": {},
   "outputs": [
    {
     "name": "stdout",
     "output_type": "stream",
     "text": [
      "ETS(M,A,N):\n",
      "                  mean  lower_0.025  upper_0.975\n",
      "2033-01-31  165.256290          NaN          NaN\n",
      "2033-02-28  165.764739          NaN          NaN\n",
      "2033-03-31  166.273187          NaN          NaN\n",
      "2033-04-30  166.781636          NaN          NaN\n",
      "2033-05-31  167.290085          NaN          NaN\n",
      "2033-06-30  167.798533          NaN          NaN\n",
      "2033-07-31  168.306982          NaN          NaN\n",
      "2033-08-31  168.815430          NaN          NaN\n",
      "2033-09-30  169.323879          NaN          NaN\n",
      "2033-10-31  169.832328          NaN          NaN\n",
      "2033-11-30  170.340776          NaN          NaN\n",
      "2033-12-31  170.849225          NaN          NaN\n",
      "\n",
      "ETS(M,Ad,N) estimated parameters:\n",
      "[ 1.53638857e-01  1.33971319e-02  9.73336479e-01  1.06238427e+02\n",
      " -5.50792615e-01]\n",
      "\n",
      "ETS(M,Ad,N):\n",
      "                  mean  lower_0.025  upper_0.975\n",
      "2033-01-31  163.344657          NaN          NaN\n",
      "2033-02-28  163.813627          NaN          NaN\n",
      "2033-03-31  164.258441          NaN          NaN\n",
      "2033-04-30  164.680342          NaN          NaN\n",
      "2033-05-31  165.080510          NaN          NaN\n",
      "2033-06-30  165.460067          NaN          NaN\n",
      "2033-07-31  165.820072          NaN          NaN\n",
      "2033-08-31  166.161533          NaN          NaN\n",
      "2033-09-30  166.485405          NaN          NaN\n",
      "2033-10-31  166.792595          NaN          NaN\n",
      "2033-11-30  167.083961          NaN          NaN\n",
      "2033-12-31  167.360319          NaN          NaN\n"
     ]
    }
   ],
   "source": [
    "# ETS(M,A,N) with fixed parameters\n",
    "model = Adam(model=\"MAN\", lags=[12], persistence=[0.1, 0.02])\n",
    "model.fit(ts_df, h=12)\n",
    "print(\"ETS(M,A,N):\")\n",
    "print(model.predict())\n",
    "\n",
    "# ETS(M,Ad,N) with estimated parameters\n",
    "model = Adam(model=\"MAdN\", lags=[12])\n",
    "model.fit(ts_df, h=12)\n",
    "print(\"\\nETS(M,Ad,N) estimated parameters:\")\n",
    "print(model.adam_estimated[\"B\"])\n",
    "\n",
    "# ETS(M,Ad,N) with fixed parameters\n",
    "model = Adam(model=\"MAdN\", lags=[12], persistence=[0.1, 0.02])\n",
    "model.fit(ts_df, h=12)\n",
    "print(\"\\nETS(M,Ad,N):\")\n",
    "print(model.predict())"
   ]
  },
  {
   "cell_type": "code",
   "execution_count": 52,
   "metadata": {},
   "outputs": [
    {
     "name": "stdout",
     "output_type": "stream",
     "text": [
      "CFValue is NaN\n",
      "CFValue is NaN\n",
      "CFValue is NaN\n",
      "CFValue is NaN\n",
      "ETS(M,M,N):\n"
     ]
    },
    {
     "name": "stderr",
     "output_type": "stream",
     "text": [
      "/home/isvetunkov/Cursor/smooth/python/.venv/lib/python3.12/site-packages/numpy/_core/fromnumeric.py:3860: RuntimeWarning: Mean of empty slice.\n",
      "  return _methods._mean(a, axis=axis, dtype=dtype,\n",
      "/home/isvetunkov/Cursor/smooth/python/.venv/lib/python3.12/site-packages/numpy/_core/_methods.py:145: RuntimeWarning: invalid value encountered in scalar divide\n",
      "  ret = ret.dtype.type(ret / rcount)\n",
      "/home/isvetunkov/Cursor/smooth/python/smooth/adam_general/core/forecaster.py:29: UserWarning: Something went wrong in the estimation of the model and NaNs were produced. If this is a mixed model, consider using the pure ones instead.\n",
      "  warnings.warn(\"Something went wrong in the estimation of the model and NaNs were produced. \"\n"
     ]
    },
    {
     "ename": "IndexError",
     "evalue": "only integers, slices (`:`), ellipsis (`...`), numpy.newaxis (`None`) and integer or boolean arrays are valid indices",
     "output_type": "error",
     "traceback": [
      "\u001b[31m---------------------------------------------------------------------------\u001b[39m",
      "\u001b[31mIndexError\u001b[39m                                Traceback (most recent call last)",
      "\u001b[36mCell\u001b[39m\u001b[36m \u001b[39m\u001b[32mIn[52]\u001b[39m\u001b[32m, line 5\u001b[39m\n\u001b[32m      3\u001b[39m model.fit(ts_df, h=\u001b[32m12\u001b[39m)\n\u001b[32m      4\u001b[39m \u001b[38;5;28mprint\u001b[39m(\u001b[33m\"\u001b[39m\u001b[33mETS(M,M,N):\u001b[39m\u001b[33m\"\u001b[39m)\n\u001b[32m----> \u001b[39m\u001b[32m5\u001b[39m \u001b[38;5;28mprint\u001b[39m(\u001b[43mmodel\u001b[49m\u001b[43m.\u001b[49m\u001b[43mpredict\u001b[49m\u001b[43m(\u001b[49m\u001b[43m)\u001b[49m)\n\u001b[32m      7\u001b[39m \u001b[38;5;66;03m# ETS(M,Md,N) with estimated parameters\u001b[39;00m\n\u001b[32m      8\u001b[39m model = Adam(model=\u001b[33m\"\u001b[39m\u001b[33mMMdN\u001b[39m\u001b[33m\"\u001b[39m, lags=[\u001b[32m12\u001b[39m])\n",
      "\u001b[36mFile \u001b[39m\u001b[32m~/Cursor/smooth/python/smooth/adam_general/core/adam.py:586\u001b[39m, in \u001b[36mAdam.predict\u001b[39m\u001b[34m(self)\u001b[39m\n\u001b[32m    548\u001b[39m \u001b[38;5;250m\u001b[39m\u001b[33;03m\"\"\"Make predictions using the fitted model\"\"\"\u001b[39;00m\n\u001b[32m    550\u001b[39m \u001b[38;5;28mself\u001b[39m.prepared_model = preparator(\n\u001b[32m    551\u001b[39m     \u001b[38;5;66;03m# Model info\u001b[39;00m\n\u001b[32m    552\u001b[39m     model_type_dict=\u001b[38;5;28mself\u001b[39m.model_type_dict,\n\u001b[32m   (...)\u001b[39m\u001b[32m    582\u001b[39m     other=\u001b[38;5;28;01mNone\u001b[39;00m\n\u001b[32m    583\u001b[39m )\n\u001b[32m--> \u001b[39m\u001b[32m586\u001b[39m \u001b[38;5;28mself\u001b[39m.predictions = \u001b[43mforecaster\u001b[49m\u001b[43m(\u001b[49m\n\u001b[32m    587\u001b[39m \u001b[43m    \u001b[49m\u001b[43mmodel_prepared\u001b[49m\u001b[43m=\u001b[49m\u001b[38;5;28;43mself\u001b[39;49m\u001b[43m.\u001b[49m\u001b[43mprepared_model\u001b[49m\u001b[43m,\u001b[49m\n\u001b[32m    588\u001b[39m \u001b[43m    \u001b[49m\u001b[43mobservations_dict\u001b[49m\u001b[43m=\u001b[49m\u001b[38;5;28;43mself\u001b[39;49m\u001b[43m.\u001b[49m\u001b[43mobservations_dict\u001b[49m\u001b[43m,\u001b[49m\n\u001b[32m    589\u001b[39m \u001b[43m    \u001b[49m\u001b[43mgeneral_dict\u001b[49m\u001b[43m=\u001b[49m\u001b[38;5;28;43mself\u001b[39;49m\u001b[43m.\u001b[49m\u001b[43mgeneral\u001b[49m\u001b[43m,\u001b[49m\n\u001b[32m    590\u001b[39m \u001b[43m    \u001b[49m\u001b[43moccurrence_dict\u001b[49m\u001b[43m=\u001b[49m\u001b[38;5;28;43mself\u001b[39;49m\u001b[43m.\u001b[49m\u001b[43moccurrence_dict\u001b[49m\u001b[43m,\u001b[49m\n\u001b[32m    591\u001b[39m \u001b[43m    \u001b[49m\u001b[43mlags_dict\u001b[49m\u001b[43m=\u001b[49m\u001b[38;5;28;43mself\u001b[39;49m\u001b[43m.\u001b[49m\u001b[43mlags_dict\u001b[49m\u001b[43m,\u001b[49m\n\u001b[32m    592\u001b[39m \u001b[43m    \u001b[49m\u001b[43mmodel_type_dict\u001b[49m\u001b[43m=\u001b[49m\u001b[38;5;28;43mself\u001b[39;49m\u001b[43m.\u001b[49m\u001b[43mmodel_type_dict\u001b[49m\u001b[43m,\u001b[49m\n\u001b[32m    593\u001b[39m \u001b[43m    \u001b[49m\u001b[43mexplanatory_checked\u001b[49m\u001b[43m=\u001b[49m\u001b[38;5;28;43mself\u001b[39;49m\u001b[43m.\u001b[49m\u001b[43mexplanatory_dict\u001b[49m\u001b[43m,\u001b[49m\n\u001b[32m    594\u001b[39m \u001b[43m    \u001b[49m\u001b[43mcomponents_dict\u001b[49m\u001b[43m=\u001b[49m\u001b[38;5;28;43mself\u001b[39;49m\u001b[43m.\u001b[49m\u001b[43mcomponents_dict\u001b[49m\u001b[43m,\u001b[49m\n\u001b[32m    595\u001b[39m \u001b[43m    \u001b[49m\u001b[43mconstants_checked\u001b[49m\u001b[43m=\u001b[49m\u001b[38;5;28;43mself\u001b[39;49m\u001b[43m.\u001b[49m\u001b[43mconstant_dict\u001b[49m\n\u001b[32m    596\u001b[39m \u001b[43m\u001b[49m\u001b[43m)\u001b[49m\n\u001b[32m    598\u001b[39m \u001b[38;5;28;01mreturn\u001b[39;00m \u001b[38;5;28mself\u001b[39m.predictions\n",
      "\u001b[36mFile \u001b[39m\u001b[32m~/Cursor/smooth/python/smooth/adam_general/core/forecaster.py:133\u001b[39m, in \u001b[36mforecaster\u001b[39m\u001b[34m(model_prepared, observations_dict, general_dict, occurrence_dict, lags_dict, model_type_dict, explanatory_checked, components_dict, constants_checked)\u001b[39m\n\u001b[32m    129\u001b[39m     y_forecast[np.isnan(y_forecast)] = \u001b[32m0\u001b[39m\n\u001b[32m    131\u001b[39m \u001b[38;5;66;03m# Make a warning about the potential explosive trend\u001b[39;00m\n\u001b[32m    132\u001b[39m \u001b[38;5;28;01mif\u001b[39;00m (model_type_dict[\u001b[33m\"\u001b[39m\u001b[33mtrend_type\u001b[39m\u001b[33m\"\u001b[39m] == \u001b[33m\"\u001b[39m\u001b[33mM\u001b[39m\u001b[33m\"\u001b[39m \u001b[38;5;129;01mand\u001b[39;00m \u001b[38;5;129;01mnot\u001b[39;00m model_type_dict[\u001b[33m\"\u001b[39m\u001b[33mdamped\u001b[39m\u001b[33m\"\u001b[39m] \u001b[38;5;129;01mand\u001b[39;00m \n\u001b[32m--> \u001b[39m\u001b[32m133\u001b[39m     \u001b[43mmodel_prepared\u001b[49m\u001b[43m[\u001b[49m\u001b[33;43m'\u001b[39;49m\u001b[33;43mprofiles_recent_table\u001b[39;49m\u001b[33;43m'\u001b[39;49m\u001b[43m]\u001b[49m\u001b[43m[\u001b[49m\u001b[33;43m\"\u001b[39;49m\u001b[33;43mprofiles_recent_table\u001b[39;49m\u001b[33;43m\"\u001b[39;49m\u001b[43m]\u001b[49m[\u001b[32m1\u001b[39m,\u001b[32m0\u001b[39m] > \u001b[32m1\u001b[39m \u001b[38;5;129;01mand\u001b[39;00m general_dict[\u001b[33m\"\u001b[39m\u001b[33mh\u001b[39m\u001b[33m\"\u001b[39m] > \u001b[32m10\u001b[39m):\n\u001b[32m    134\u001b[39m     warnings.warn(\u001b[33m\"\u001b[39m\u001b[33mYour model has a potentially explosive multiplicative trend. \u001b[39m\u001b[33m\"\u001b[39m\n\u001b[32m    135\u001b[39m                 \u001b[33m\"\u001b[39m\u001b[33mI cannot do anything about it, so please just be careful.\u001b[39m\u001b[33m\"\u001b[39m)\n\u001b[32m    137\u001b[39m occurrence_model = \u001b[38;5;28;01mFalse\u001b[39;00m\n",
      "\u001b[31mIndexError\u001b[39m: only integers, slices (`:`), ellipsis (`...`), numpy.newaxis (`None`) and integer or boolean arrays are valid indices"
     ]
    }
   ],
   "source": [
    "# ETS(M,M,N) with fixed parameters\n",
    "model = Adam(model=\"MMN\", lags=[12], persistence=[0.1, 0.02])\n",
    "model.fit(ts_df, h=12)\n",
    "print(\"ETS(M,M,N):\")\n",
    "print(model.predict())\n",
    "\n",
    "# ETS(M,Md,N) with estimated parameters\n",
    "model = Adam(model=\"MMdN\", lags=[12])\n",
    "model.fit(ts_df, h=12)\n",
    "print(\"\\nETS(M,Md,N) estimated parameters:\")\n",
    "print(model.adam_estimated)\n",
    "\n",
    "# ETS(M,Md,N) with fixed parameters\n",
    "model = Adam(model=\"MMdN\", lags=[12], persistence=[0.1, 0.02])\n",
    "model.fit(ts_df, h=12)\n",
    "print(\"\\nETS(M,Md,N):\")\n",
    "print(model.predict())\n"
   ]
  }
 ],
 "metadata": {
  "kernelspec": {
   "display_name": ".venv",
   "language": "python",
   "name": "python3"
  },
  "language_info": {
   "codemirror_mode": {
    "name": "ipython",
    "version": 3
   },
   "file_extension": ".py",
   "mimetype": "text/x-python",
   "name": "python",
   "nbconvert_exporter": "python",
   "pygments_lexer": "ipython3",
   "version": "3.12.3"
  }
 },
 "nbformat": 4,
 "nbformat_minor": 2
}
