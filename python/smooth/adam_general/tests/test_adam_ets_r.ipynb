{
 "cells": [
  {
   "cell_type": "code",
   "execution_count": 2,
   "metadata": {},
   "outputs": [
    {
     "name": "stdout",
     "output_type": "stream",
     "text": [
      "ℹ Loading smooth\n"
     ]
    },
    {
     "name": "stderr",
     "output_type": "stream",
     "text": [
      "R[write to console]: Loading required package: greybox\n",
      "\n",
      "R[write to console]: Package \"greybox\", v2.0.4.41004 loaded.\n",
      "\n",
      "\n",
      "R[write to console]: This is package \"smooth\", v4.1.2.41005\n",
      "\n",
      "\n",
      "R[write to console]: In addition: \n",
      "R[write to console]: Warning message:\n",
      "\n",
      "R[write to console]: In (function (package, help, pos = 2, lib.loc = NULL, character.only = FALSE,  :\n",
      "R[write to console]: \n",
      " \n",
      "R[write to console]:  libraries ‘/usr/local/lib/R/site-library’, ‘/usr/lib/R/site-library’ contain no packages\n",
      "\n"
     ]
    },
    {
     "name": "stdout",
     "output_type": "stream",
     "text": [
      "Smooth package loaded in development mode\n"
     ]
    }
   ],
   "source": [
    "import numpy as np\n",
    "import pandas as pd\n",
    "# Just to plot the time series and see what it looks like\n",
    "import matplotlib.pyplot as plt\n",
    "\n",
    "%load_ext rpy2.ipython\n",
    "\n",
    "import rpy2.robjects as ro\n",
    "from rpy2.robjects.packages import importr\n",
    "import os\n",
    "\n",
    "def load_smooth_dev():\n",
    "    \"\"\"Load the smooth package in development mode\"\"\"\n",
    "    # Path to your smooth package\n",
    "    smooth_path = \"~/Cursor/smooth/\"  # Adjust this path if needed\n",
    "    \n",
    "    # Load devtools and then load_all() the smooth package\n",
    "    ro.r(f'''\n",
    "    if (!requireNamespace(\"devtools\", quietly=TRUE)) {{\n",
    "        install.packages(\"devtools\", repos=\"https://cran.rstudio.com/\")\n",
    "    }}\n",
    "    devtools::load_all(\"{smooth_path}\")\n",
    "    ''')\n",
    "    \n",
    "    print(\"Smooth package loaded in development mode\")\n",
    "\n",
    "# Load the package in development mode\n",
    "load_smooth_dev()"
   ]
  },
  {
   "cell_type": "code",
   "execution_count": 3,
   "metadata": {},
   "outputs": [],
   "source": [
    "#### Global level and ETS(A,N,N) ####\n",
    "np.random.seed(33)  # For reproducibility\n",
    "n_points = 100\n",
    "time_series = np.random.normal(100, 10, n_points)  # Random errors\n",
    "#dates = pd.date_range(start='2023-01-01', periods=n_points, freq='ME')  # Monthly frequency\n",
    "ts_df = pd.DataFrame({'value': time_series})"
   ]
  },
  {
   "cell_type": "code",
   "execution_count": 4,
   "metadata": {},
   "outputs": [
    {
     "name": "stdout",
     "output_type": "stream",
     "text": [
      "Time Series:\n",
      "Start = 101 \n",
      "End = 112 \n",
      "Frequency = 1 \n",
      " [1] 99.61957 99.61957 99.61957 99.61957 99.61957 99.61957 99.61957 99.61957\n",
      " [9] 99.61957 99.61957 99.61957 99.61957\n"
     ]
    }
   ],
   "source": [
    "%%R -i ts_df\n",
    "\n",
    "model <- adam(ts_df, model = \"ANN\", lags = c(12))\n",
    "\n",
    "forecast(model, h = 12)"
   ]
  },
  {
   "cell_type": "code",
   "execution_count": 5,
   "metadata": {},
   "outputs": [],
   "source": [
    "#### Local level and ETS(A,N,N) ####\n",
    "np.random.seed(41)  # For reproducibility\n",
    "n_points = 120\n",
    "errors = np.random.normal(0, 10, n_points)  # Random errors\n",
    "time_series = np.zeros(n_points)\n",
    "time_series[0] = 100\n",
    "for i in range(n_points-1):\n",
    "    # This is SES with alpha=0.1, just in an alternative form\n",
    "    time_series[i+1] = time_series[i] + (0.1-1) * errors[i] + errors[i+1]\n",
    "#dates = pd.date_range(start='2023-01-01', periods=n_points, freq='ME')  # Monthly frequency\n",
    "ts_df = pd.DataFrame({'value': time_series})"
   ]
  },
  {
   "cell_type": "code",
   "execution_count": 6,
   "metadata": {},
   "outputs": [
    {
     "name": "stdout",
     "output_type": "stream",
     "text": [
      "ETS(A,N,N) with alpha=0.1:\n",
      "Time Series:\n",
      "Start = 121 \n",
      "End = 132 \n",
      "Frequency = 1 \n",
      " [1] 83.22599 83.22599 83.22599 83.22599 83.22599 83.22599 83.22599 83.22599\n",
      " [9] 83.22599 83.22599 83.22599 83.22599\n",
      "\n",
      "ETS(A,N,N) with estimated alpha:\n",
      "     alpha \n",
      "0.06531787 \n",
      "Time Series:\n",
      "Start = 121 \n",
      "End = 132 \n",
      "Frequency = 1 \n",
      " [1] 84.70888 84.70888 84.70888 84.70888 84.70888 84.70888 84.70888 84.70888\n",
      " [9] 84.70888 84.70888 84.70888 84.70888\n"
     ]
    }
   ],
   "source": [
    "%%R -i ts_df\n",
    "\n",
    "# ETS(A,N,N) with alpha=0.1\n",
    "model <- adam(ts_df, model = \"ANN\", lags = c(12), persistence = 0.1)\n",
    "\n",
    "cat(\"ETS(A,N,N) with alpha=0.1:\\n\")\n",
    "forecast(model, h = 12) |> print()\n",
    "\n",
    "# ETS(A,N,N) with estimated alpha\n",
    "model <- adam(ts_df, model = \"ANN\", lags = c(12))\n",
    "cat(\"\\nETS(A,N,N) with estimated alpha:\\n\")\n",
    "print(model$persistence)\n",
    "forecast(model, h = 12) |> print()\n"
   ]
  },
  {
   "cell_type": "code",
   "execution_count": 7,
   "metadata": {},
   "outputs": [],
   "source": [
    "#### Local trend and ETS(A,A,N) ####\n",
    "np.random.seed(42)  # For reproducibility\n",
    "n_points = 120\n",
    "errors = np.random.normal(0, 10, n_points)  # Random errors\n",
    "trend = np.random.normal(0.5, 2, n_points)  # Random trend\n",
    "time_series = np.zeros(n_points)\n",
    "time_series[0] = 100\n",
    "for i in range(n_points-1):\n",
    "    # This is SES with alpha=0.1, just in an alternative form\n",
    "    time_series[i+1] = time_series[i] + (0.1-1) * errors[i] + trend[i] + errors[i+1]\n",
    "#dates = pd.date_range(start='2023-01-01', periods=n_points, freq='ME')  # Monthly frequency\n",
    "ts_df = pd.DataFrame({'value': time_series})\n"
   ]
  },
  {
   "cell_type": "code",
   "execution_count": 13,
   "metadata": {},
   "outputs": [
    {
     "name": "stdout",
     "output_type": "stream",
     "text": [
      "ETS(A,A,N):\n",
      "Time Series:\n",
      "Start = 121 \n",
      "End = 132 "
     ]
    },
    {
     "name": "stdout",
     "output_type": "stream",
     "text": [
      "\n",
      "Frequency = 1 \n",
      " [1] 165.2555 165.7640 166.2724 166.7808 167.2892 167.7977 168.3061 168.8145\n",
      " [9] 169.3230 169.8314 170.3398 170.8483\n",
      "\n",
      "ETS(A,Ad,N) estimated parameters:\n",
      "       alpha         beta          phi        level        trend \n",
      "  0.16827523   0.01042486   0.98630131 104.77485790  -0.38092112 \n",
      "\n",
      "ETS(A,Ad,N):\n",
      "Time Series:\n",
      "Start = 121 \n",
      "End = 132 \n",
      "Frequency = 1 \n",
      " [1] 163.2357 163.7013 164.1408 164.5555 164.9469 165.3163 165.6649 165.9939\n",
      " [9] 166.3044 166.5974 166.8740 167.1350\n"
     ]
    }
   ],
   "source": [
    "%%R -i ts_df\n",
    "\n",
    "# ETS(A,A,N)\n",
    "model1 <- adam(ts_df, model = \"AAN\", lags = c(12), persistence = c(0.1, 0.02))\n",
    "\n",
    "cat(\"ETS(A,A,N):\\n\")\n",
    "forecast(model1, h = 12) |> print()\n",
    "\n",
    "# ETS(A,Ad,N) estimated\n",
    "cat(\"\\nETS(A,Ad,N) estimated parameters:\\n\")\n",
    "print(adam(ts_df, model = \"AAdN\", lags = c(12))$B)\n",
    "\n",
    "# ETS(A,Ad,N)\n",
    "model2 <- adam(ts_df, model = \"AAdN\", lags = c(12), persistence = c(0.1, 0.02))\n",
    "\n",
    "cat(\"\\nETS(A,Ad,N):\\n\")\n",
    "forecast(model2, h = 12) |> print()"
   ]
  }
 ],
 "metadata": {
  "kernelspec": {
   "display_name": ".venv",
   "language": "python",
   "name": "python3"
  },
  "language_info": {
   "codemirror_mode": {
    "name": "ipython",
    "version": 3
   },
   "file_extension": ".py",
   "mimetype": "text/x-python",
   "name": "python",
   "nbconvert_exporter": "python",
   "pygments_lexer": "ipython3",
   "version": "3.12.3"
  }
 },
 "nbformat": 4,
 "nbformat_minor": 2
}
