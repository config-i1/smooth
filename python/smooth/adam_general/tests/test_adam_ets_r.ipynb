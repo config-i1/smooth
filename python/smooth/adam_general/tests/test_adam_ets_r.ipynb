{
 "cells": [
  {
   "cell_type": "code",
   "execution_count": 2,
   "metadata": {},
   "outputs": [
    {
     "name": "stdout",
     "output_type": "stream",
     "text": [
      "ℹ Loading smooth\n"
     ]
    },
    {
     "name": "stderr",
     "output_type": "stream",
     "text": [
      "R[write to console]: Loading required package: greybox\n",
      "\n",
      "R[write to console]: Package \"greybox\", v2.0.4.41004 loaded.\n",
      "\n",
      "\n",
      "R[write to console]: This is package \"smooth\", v4.1.2.41005\n",
      "\n",
      "\n",
      "R[write to console]: In addition: \n",
      "R[write to console]: Warning message:\n",
      "\n",
      "R[write to console]: In (function (package, help, pos = 2, lib.loc = NULL, character.only = FALSE,  :\n",
      "R[write to console]: \n",
      " \n",
      "R[write to console]:  libraries ‘/usr/local/lib/R/site-library’, ‘/usr/lib/R/site-library’ contain no packages\n",
      "\n"
     ]
    },
    {
     "name": "stdout",
     "output_type": "stream",
     "text": [
      "Smooth package loaded in development mode\n"
     ]
    }
   ],
   "source": [
    "import numpy as np\n",
    "import pandas as pd\n",
    "# Just to plot the time series and see what it looks like\n",
    "import matplotlib.pyplot as plt\n",
    "\n",
    "%load_ext rpy2.ipython\n",
    "\n",
    "import rpy2.robjects as ro\n",
    "from rpy2.robjects.packages import importr\n",
    "import os\n",
    "\n",
    "def load_smooth_dev():\n",
    "    \"\"\"Load the smooth package in development mode\"\"\"\n",
    "    # Path to your smooth package\n",
    "    smooth_path = \"~/Cursor/smooth/\"  # Adjust this path if needed\n",
    "    \n",
    "    # Load devtools and then load_all() the smooth package\n",
    "    ro.r(f'''\n",
    "    if (!requireNamespace(\"devtools\", quietly=TRUE)) {{\n",
    "        install.packages(\"devtools\", repos=\"https://cran.rstudio.com/\")\n",
    "    }}\n",
    "    devtools::load_all(\"{smooth_path}\")\n",
    "    ''')\n",
    "    \n",
    "    print(\"Smooth package loaded in development mode\")\n",
    "\n",
    "# Load the package in development mode\n",
    "load_smooth_dev()"
   ]
  },
  {
   "cell_type": "code",
   "execution_count": 3,
   "metadata": {},
   "outputs": [],
   "source": [
    "#### Global level and ETS(A,N,N) ####\n",
    "np.random.seed(33)  # For reproducibility\n",
    "n_points = 100\n",
    "time_series = np.random.normal(100, 10, n_points)  # Random errors\n",
    "#dates = pd.date_range(start='2023-01-01', periods=n_points, freq='ME')  # Monthly frequency\n",
    "ts_df = pd.DataFrame({'value': time_series})"
   ]
  },
  {
   "cell_type": "code",
   "execution_count": 4,
   "metadata": {},
   "outputs": [
    {
     "name": "stdout",
     "output_type": "stream",
     "text": [
      "Time Series:\n",
      "Start = 101 \n",
      "End = 112 \n",
      "Frequency = 1 \n",
      " [1] 99.61957 99.61957 99.61957 99.61957 99.61957 99.61957 99.61957 99.61957\n",
      " [9] 99.61957 99.61957 99.61957 99.61957\n"
     ]
    }
   ],
   "source": [
    "%%R -i ts_df\n",
    "\n",
    "model <- adam(ts_df, model = \"ANN\", lags = c(12))\n",
    "\n",
    "forecast(model, h = 12)"
   ]
  },
  {
   "cell_type": "code",
   "execution_count": 5,
   "metadata": {},
   "outputs": [],
   "source": [
    "#### Local level and ETS(A,N,N) ####\n",
    "np.random.seed(41)  # For reproducibility\n",
    "n_points = 120\n",
    "errors = np.random.normal(0, 10, n_points)  # Random errors\n",
    "time_series = np.zeros(n_points)\n",
    "time_series[0] = 100\n",
    "for i in range(n_points-1):\n",
    "    # This is SES with alpha=0.1, just in an alternative form\n",
    "    time_series[i+1] = time_series[i] + (0.1-1) * errors[i] + errors[i+1]\n",
    "#dates = pd.date_range(start='2023-01-01', periods=n_points, freq='ME')  # Monthly frequency\n",
    "ts_df = pd.DataFrame({'value': time_series})"
   ]
  },
  {
   "cell_type": "code",
   "execution_count": 17,
   "metadata": {},
   "outputs": [
    {
     "name": "stdout",
     "output_type": "stream",
     "text": [
      "ETS(A,N,N) with alpha=0.1:\n",
      "Time Series:\n",
      "Start = 121 "
     ]
    },
    {
     "name": "stdout",
     "output_type": "stream",
     "text": [
      "\n",
      "End = 132 \n",
      "Frequency = 1 \n",
      " [1] 158.176 158.176 158.176 158.176 158.176 158.176 158.176 158.176 158.176\n",
      "[10] 158.176 158.176 158.176\n",
      "\n",
      "ETS(A,N,N) with estimated parameters:\n",
      "     alpha      level \n",
      "  0.264602 102.272645 \n",
      "Time Series:\n",
      "Start = 121 \n",
      "End = 132 \n",
      "Frequency = 1 \n",
      " [1] 163.3011 163.3011 163.3011 163.3011 163.3011 163.3011 163.3011 163.3011\n",
      " [9] 163.3011 163.3011 163.3011 163.3011\n",
      "\n",
      "ETS(M,N,N) with estimated parameters:\n",
      "Time Series:\n",
      "Start = 121 \n",
      "End = 132 \n",
      "Frequency = 1 \n",
      " [1] 163.0357 163.0357 163.0357 163.0357 163.0357 163.0357 163.0357 163.0357\n",
      " [9] 163.0357 163.0357 163.0357 163.0357\n"
     ]
    }
   ],
   "source": [
    "%%R -i ts_df\n",
    "\n",
    "# ETS(A,N,N) with alpha=0.1\n",
    "model <- adam(ts_df, model = \"ANN\", lags = c(12), persistence = 0.1)\n",
    "\n",
    "cat(\"ETS(A,N,N) with alpha=0.1:\\n\")\n",
    "forecast(model, h = 12) |> print()\n",
    "\n",
    "# ETS(A,N,N) with estimated alpha\n",
    "model <- adam(ts_df, model = \"ANN\", lags = c(12))\n",
    "cat(\"\\nETS(A,N,N) with estimated parameters:\\n\")\n",
    "print(model$B)\n",
    "forecast(model, h = 12) |> print()\n",
    "\n",
    "# ETS(M,N,N) with estimated alpha\n",
    "model <- adam(ts_df, model = \"MNN\", lags = c(12), distribution=\"dnorm\")\n",
    "cat(\"\\nETS(M,N,N) with estimated parameters:\\n\")\n",
    "forecast(model, h = 12) |> print()\n"
   ]
  },
  {
   "cell_type": "code",
   "execution_count": 7,
   "metadata": {},
   "outputs": [],
   "source": [
    "#### Local trend and ETS(A,A,N) ####\n",
    "np.random.seed(42)  # For reproducibility\n",
    "n_points = 120\n",
    "errors = np.random.normal(0, 10, n_points)  # Random errors\n",
    "trend = np.random.normal(0.5, 2, n_points)  # Random trend\n",
    "time_series = np.zeros(n_points)\n",
    "time_series[0] = 100\n",
    "for i in range(n_points-1):\n",
    "    # This is SES with alpha=0.1, just in an alternative form\n",
    "    time_series[i+1] = time_series[i] + (0.1-1) * errors[i] + trend[i] + errors[i+1]\n",
    "#dates = pd.date_range(start='2023-01-01', periods=n_points, freq='ME')  # Monthly frequency\n",
    "ts_df = pd.DataFrame({'value': time_series})\n"
   ]
  },
  {
   "cell_type": "code",
   "execution_count": 14,
   "metadata": {},
   "outputs": [
    {
     "name": "stdout",
     "output_type": "stream",
     "text": [
      "ETS(A,A,N):\n",
      "Time Series:\n",
      "Start = 121 \n",
      "End = 132 \n",
      "Frequency = 1 \n",
      " [1] 165.2555 165.7640 166.2724 166.7808 167.2892 167.7977 168.3061 168.8145\n",
      " [9] 169.3230 169.8314 170.3398 170.8483\n",
      "\n",
      "ETS(A,Ad,N) estimated parameters:\n",
      "       alpha         beta          phi        level        trend \n",
      "  0.16827523   0.01042486   0.98630131 104.77485790  -0.38092112 \n",
      "\n",
      "ETS(A,Ad,N):\n",
      "Time Series:\n",
      "Start = 121 \n",
      "End = 132 \n",
      "Frequency = 1 \n",
      " [1] 163.2357 163.7013 164.1408 164.5555 164.9469 165.3163 165.6649 165.9939\n",
      " [9] 166.3044 166.5974 166.8740 167.1350\n"
     ]
    }
   ],
   "source": [
    "%%R -i ts_df\n",
    "\n",
    "# ETS(A,A,N)\n",
    "model1 <- adam(ts_df, model = \"AAN\", lags = c(12), persistence = c(0.1, 0.02))\n",
    "\n",
    "cat(\"ETS(A,A,N):\\n\")\n",
    "forecast(model1, h = 12) |> print()\n",
    "\n",
    "# ETS(A,Ad,N) estimated\n",
    "cat(\"\\nETS(A,Ad,N) estimated parameters:\\n\")\n",
    "print(adam(ts_df, model = \"AAdN\", lags = c(12))$B)\n",
    "\n",
    "# ETS(A,Ad,N)\n",
    "model2 <- adam(ts_df, model = \"AAdN\", lags = c(12), persistence = c(0.1, 0.02))\n",
    "\n",
    "cat(\"\\nETS(A,Ad,N):\\n\")\n",
    "forecast(model2, h = 12) |> print()"
   ]
  },
  {
   "cell_type": "code",
   "execution_count": 27,
   "metadata": {},
   "outputs": [
    {
     "name": "stdout",
     "output_type": "stream",
     "text": [
      "ETS(M,A,N):\n",
      "Time Series:\n",
      "Start = 121 \n",
      "End = 132 \n",
      "Frequency = 1 \n",
      " [1] 165.2563 165.7647 166.2732 166.7816 167.2901 167.7985 168.3070 168.8154\n",
      " [9] 169.3239 169.8323 170.3408 170.8492\n",
      "\n",
      "ETS(M,Ad,N) estimated parameters:\n",
      "       alpha         beta          phi        level        trend \n",
      "  0.15363886   0.01339713   0.97333648 106.23842711  -0.55079261 \n",
      "\n",
      "ETS(M,Ad,N):\n",
      "Time Series:\n",
      "Start = 121 \n",
      "End = 132 \n",
      "Frequency = 1 \n",
      " [1] 163.3447 163.8136 164.2584 164.6803 165.0805 165.4601 165.8201 166.1615\n",
      " [9] 166.4854 166.7926 167.0840 167.3603\n"
     ]
    }
   ],
   "source": [
    "%%R -i ts_df\n",
    "\n",
    "# ETS(M,A,N)\n",
    "model1 <- adam(ts_df, model = \"MAN\", lags = c(12), persistence = c(0.1, 0.02))\n",
    "\n",
    "cat(\"ETS(M,A,N):\\n\")\n",
    "forecast(model1, h = 12) |> print()\n",
    "\n",
    "# ETS(M,Ad,N) estimated\n",
    "cat(\"\\nETS(M,Ad,N) estimated parameters:\\n\")\n",
    "print(adam(ts_df, model = \"MAdN\", lags = c(12))$B)\n",
    "\n",
    "# ETS(M,Ad,N)\n",
    "model2 <- adam(ts_df, model = \"MAdN\", lags = c(12), persistence = c(0.1, 0.02))\n",
    "\n",
    "cat(\"\\nETS(M,Ad,N):\\n\")\n",
    "forecast(model2, h = 12) |> print()"
   ]
  },
  {
   "cell_type": "code",
   "execution_count": 28,
   "metadata": {},
   "outputs": [
    {
     "name": "stdout",
     "output_type": "stream",
     "text": [
      "ETS(M,M,N):\n",
      "Time Series:\n",
      "Start = 121 \n",
      "End = 132 \n",
      "Frequency = 1 \n",
      " [1] 165.4382 165.8420 166.3574 167.0000 167.6154 168.3107 168.6042 168.9640\n",
      " [9] 169.5467 170.0119 170.6938 170.9059\n",
      "\n",
      "ETS(M,Md,N) estimated parameters:\n",
      "       alpha         beta          phi        level        trend \n",
      "  0.15446375   0.01272753   0.97092900 106.66843970   0.99416522 \n",
      "\n",
      "ETS(M,Md,N):\n",
      "Time Series:\n",
      "Start = 121 \n",
      "End = 132 \n",
      "Frequency = 1 \n",
      " [1] 163.1986 163.8798 164.2126 164.7674 165.0041 165.3839 165.9909 166.2572\n",
      " [9] 166.5937 167.1456 167.3626 167.5950\n"
     ]
    },
    {
     "ename": "TypeError",
     "evalue": "ZMQDisplayPublisher.publish() got an unexpected keyword argument 'source'",
     "output_type": "error",
     "traceback": [
      "\u001b[31m---------------------------------------------------------------------------\u001b[39m",
      "\u001b[31mTypeError\u001b[39m                                 Traceback (most recent call last)",
      "\u001b[36mCell\u001b[39m\u001b[36m \u001b[39m\u001b[32mIn[28]\u001b[39m\u001b[32m, line 1\u001b[39m\n\u001b[32m----> \u001b[39m\u001b[32m1\u001b[39m \u001b[43mget_ipython\u001b[49m\u001b[43m(\u001b[49m\u001b[43m)\u001b[49m\u001b[43m.\u001b[49m\u001b[43mrun_cell_magic\u001b[49m\u001b[43m(\u001b[49m\u001b[33;43m'\u001b[39;49m\u001b[33;43mR\u001b[39;49m\u001b[33;43m'\u001b[39;49m\u001b[43m,\u001b[49m\u001b[43m \u001b[49m\u001b[33;43m'\u001b[39;49m\u001b[33;43m-i ts_df\u001b[39;49m\u001b[33;43m'\u001b[39;49m\u001b[43m,\u001b[49m\u001b[43m \u001b[49m\u001b[33;43m'\u001b[39;49m\u001b[38;5;130;43;01m\\n\u001b[39;49;00m\u001b[33;43m# ETS(M,M,N)\u001b[39;49m\u001b[38;5;130;43;01m\\n\u001b[39;49;00m\u001b[33;43mmodel1 <- adam(ts_df, model = \u001b[39;49m\u001b[33;43m\"\u001b[39;49m\u001b[33;43mMMN\u001b[39;49m\u001b[33;43m\"\u001b[39;49m\u001b[33;43m, lags = c(12), persistence = c(0.1, 0.02))\u001b[39;49m\u001b[38;5;130;43;01m\\n\u001b[39;49;00m\u001b[38;5;130;43;01m\\n\u001b[39;49;00m\u001b[33;43mcat(\u001b[39;49m\u001b[33;43m\"\u001b[39;49m\u001b[33;43mETS(M,M,N):\u001b[39;49m\u001b[38;5;130;43;01m\\\\\u001b[39;49;00m\u001b[33;43mn\u001b[39;49m\u001b[33;43m\"\u001b[39;49m\u001b[33;43m)\u001b[39;49m\u001b[38;5;130;43;01m\\n\u001b[39;49;00m\u001b[33;43mforecast(model1, h = 12) |> print()\u001b[39;49m\u001b[38;5;130;43;01m\\n\u001b[39;49;00m\u001b[38;5;130;43;01m\\n\u001b[39;49;00m\u001b[33;43m# ETS(M,Md,N) estimated\u001b[39;49m\u001b[38;5;130;43;01m\\n\u001b[39;49;00m\u001b[33;43mcat(\u001b[39;49m\u001b[33;43m\"\u001b[39;49m\u001b[38;5;130;43;01m\\\\\u001b[39;49;00m\u001b[33;43mnETS(M,Md,N) estimated parameters:\u001b[39;49m\u001b[38;5;130;43;01m\\\\\u001b[39;49;00m\u001b[33;43mn\u001b[39;49m\u001b[33;43m\"\u001b[39;49m\u001b[33;43m)\u001b[39;49m\u001b[38;5;130;43;01m\\n\u001b[39;49;00m\u001b[33;43mprint(adam(ts_df, model = \u001b[39;49m\u001b[33;43m\"\u001b[39;49m\u001b[33;43mMMdN\u001b[39;49m\u001b[33;43m\"\u001b[39;49m\u001b[33;43m, lags = c(12))$B)\u001b[39;49m\u001b[38;5;130;43;01m\\n\u001b[39;49;00m\u001b[38;5;130;43;01m\\n\u001b[39;49;00m\u001b[33;43m# ETS(M,Md,N)\u001b[39;49m\u001b[38;5;130;43;01m\\n\u001b[39;49;00m\u001b[33;43mmodel2 <- adam(ts_df, model = \u001b[39;49m\u001b[33;43m\"\u001b[39;49m\u001b[33;43mMMdN\u001b[39;49m\u001b[33;43m\"\u001b[39;49m\u001b[33;43m, lags = c(12), persistence = c(0.1, 0.02))\u001b[39;49m\u001b[38;5;130;43;01m\\n\u001b[39;49;00m\u001b[38;5;130;43;01m\\n\u001b[39;49;00m\u001b[33;43mcat(\u001b[39;49m\u001b[33;43m\"\u001b[39;49m\u001b[38;5;130;43;01m\\\\\u001b[39;49;00m\u001b[33;43mnETS(M,Md,N):\u001b[39;49m\u001b[38;5;130;43;01m\\\\\u001b[39;49;00m\u001b[33;43mn\u001b[39;49m\u001b[33;43m\"\u001b[39;49m\u001b[33;43m)\u001b[39;49m\u001b[38;5;130;43;01m\\n\u001b[39;49;00m\u001b[33;43mforecast(model2, h = 12) |> print()\u001b[39;49m\u001b[38;5;130;43;01m\\n\u001b[39;49;00m\u001b[33;43m'\u001b[39;49m\u001b[43m)\u001b[49m\n",
      "\u001b[36mFile \u001b[39m\u001b[32m~/Cursor/smooth/python/.venv/lib/python3.12/site-packages/IPython/core/interactiveshell.py:2542\u001b[39m, in \u001b[36mInteractiveShell.run_cell_magic\u001b[39m\u001b[34m(self, magic_name, line, cell)\u001b[39m\n\u001b[32m   2540\u001b[39m \u001b[38;5;28;01mwith\u001b[39;00m \u001b[38;5;28mself\u001b[39m.builtin_trap:\n\u001b[32m   2541\u001b[39m     args = (magic_arg_s, cell)\n\u001b[32m-> \u001b[39m\u001b[32m2542\u001b[39m     result = \u001b[43mfn\u001b[49m\u001b[43m(\u001b[49m\u001b[43m*\u001b[49m\u001b[43margs\u001b[49m\u001b[43m,\u001b[49m\u001b[43m \u001b[49m\u001b[43m*\u001b[49m\u001b[43m*\u001b[49m\u001b[43mkwargs\u001b[49m\u001b[43m)\u001b[49m\n\u001b[32m   2544\u001b[39m \u001b[38;5;66;03m# The code below prevents the output from being displayed\u001b[39;00m\n\u001b[32m   2545\u001b[39m \u001b[38;5;66;03m# when using magics with decorator @output_can_be_silenced\u001b[39;00m\n\u001b[32m   2546\u001b[39m \u001b[38;5;66;03m# when the last Python token in the expression is a ';'.\u001b[39;00m\n\u001b[32m   2547\u001b[39m \u001b[38;5;28;01mif\u001b[39;00m \u001b[38;5;28mgetattr\u001b[39m(fn, magic.MAGIC_OUTPUT_CAN_BE_SILENCED, \u001b[38;5;28;01mFalse\u001b[39;00m):\n",
      "\u001b[36mFile \u001b[39m\u001b[32m~/Cursor/smooth/python/.venv/lib/python3.12/site-packages/rpy2/ipython/rmagic.py:990\u001b[39m, in \u001b[36mRMagics.R\u001b[39m\u001b[34m(self, line, cell, local_ns)\u001b[39m\n\u001b[32m    987\u001b[39m     ro.r(\u001b[33m'\u001b[39m\u001b[33mdev.off()\u001b[39m\u001b[33m'\u001b[39m)\n\u001b[32m    988\u001b[39m \u001b[38;5;28;01mif\u001b[39;00m text_output:\n\u001b[32m    989\u001b[39m     \u001b[38;5;66;03m# display_data.append(('RMagic.R', {'text/plain':text_output}))\u001b[39;00m\n\u001b[32m--> \u001b[39m\u001b[32m990\u001b[39m     \u001b[43mdisplaypub\u001b[49m\u001b[43m.\u001b[49m\u001b[43mpublish_display_data\u001b[49m\u001b[43m(\u001b[49m\n\u001b[32m    991\u001b[39m \u001b[43m        \u001b[49m\u001b[43msource\u001b[49m\u001b[43m=\u001b[49m\u001b[33;43m'\u001b[39;49m\u001b[33;43mRMagic.R\u001b[39;49m\u001b[33;43m'\u001b[39;49m\u001b[43m,\u001b[49m\n\u001b[32m    992\u001b[39m \u001b[43m        \u001b[49m\u001b[43mdata\u001b[49m\u001b[43m=\u001b[49m\u001b[43m{\u001b[49m\u001b[33;43m'\u001b[39;49m\u001b[33;43mtext/plain\u001b[39;49m\u001b[33;43m'\u001b[39;49m\u001b[43m:\u001b[49m\u001b[43m \u001b[49m\u001b[43mtext_output\u001b[49m\u001b[43m}\u001b[49m\u001b[43m)\u001b[49m\n\u001b[32m    993\u001b[39m \u001b[38;5;66;03m# publish figures generated by R.\u001b[39;00m\n\u001b[32m    994\u001b[39m \u001b[38;5;28;01mif\u001b[39;00m \u001b[38;5;28mself\u001b[39m.device \u001b[38;5;129;01min\u001b[39;00m DEVICES_STATIC_RASTER:\n",
      "\u001b[36mFile \u001b[39m\u001b[32m~/Cursor/smooth/python/.venv/lib/python3.12/site-packages/IPython/core/display_functions.py:73\u001b[39m, in \u001b[36mpublish_display_data\u001b[39m\u001b[34m(data, metadata, transient, **kwargs)\u001b[39m\n\u001b[32m     70\u001b[39m \u001b[38;5;28;01mif\u001b[39;00m transient:\n\u001b[32m     71\u001b[39m     kwargs[\u001b[33m'\u001b[39m\u001b[33mtransient\u001b[39m\u001b[33m'\u001b[39m] = transient\n\u001b[32m---> \u001b[39m\u001b[32m73\u001b[39m \u001b[43mdisplay_pub\u001b[49m\u001b[43m.\u001b[49m\u001b[43mpublish\u001b[49m\u001b[43m(\u001b[49m\n\u001b[32m     74\u001b[39m \u001b[43m    \u001b[49m\u001b[43mdata\u001b[49m\u001b[43m=\u001b[49m\u001b[43mdata\u001b[49m\u001b[43m,\u001b[49m\n\u001b[32m     75\u001b[39m \u001b[43m    \u001b[49m\u001b[43mmetadata\u001b[49m\u001b[43m=\u001b[49m\u001b[43mmetadata\u001b[49m\u001b[43m,\u001b[49m\n\u001b[32m     76\u001b[39m \u001b[43m    \u001b[49m\u001b[43m*\u001b[49m\u001b[43m*\u001b[49m\u001b[43mkwargs\u001b[49m\n\u001b[32m     77\u001b[39m \u001b[43m\u001b[49m\u001b[43m)\u001b[49m\n",
      "\u001b[31mTypeError\u001b[39m: ZMQDisplayPublisher.publish() got an unexpected keyword argument 'source'"
     ]
    }
   ],
   "source": [
    "%%R -i ts_df\n",
    "\n",
    "# ETS(M,M,N)\n",
    "model1 <- adam(ts_df, model = \"MMN\", lags = c(12), persistence = c(0.1, 0.02))\n",
    "\n",
    "cat(\"ETS(M,M,N):\\n\")\n",
    "forecast(model1, h = 12) |> print()\n",
    "\n",
    "# ETS(M,Md,N) estimated\n",
    "cat(\"\\nETS(M,Md,N) estimated parameters:\\n\")\n",
    "print(adam(ts_df, model = \"MMdN\", lags = c(12))$B)\n",
    "\n",
    "# ETS(M,Md,N)\n",
    "model2 <- adam(ts_df, model = \"MMdN\", lags = c(12), persistence = c(0.1, 0.02))\n",
    "\n",
    "cat(\"\\nETS(M,Md,N):\\n\")\n",
    "forecast(model2, h = 12) |> print()\n"
   ]
  }
 ],
 "metadata": {
  "kernelspec": {
   "display_name": ".venv",
   "language": "python",
   "name": "python3"
  },
  "language_info": {
   "codemirror_mode": {
    "name": "ipython",
    "version": 3
   },
   "file_extension": ".py",
   "mimetype": "text/x-python",
   "name": "python",
   "nbconvert_exporter": "python",
   "pygments_lexer": "ipython3",
   "version": "3.12.3"
  }
 },
 "nbformat": 4,
 "nbformat_minor": 2
}
