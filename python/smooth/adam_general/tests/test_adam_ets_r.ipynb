{
 "cells": [
  {
   "cell_type": "code",
   "execution_count": 1,
   "metadata": {},
   "outputs": [
    {
     "name": "stdout",
     "output_type": "stream",
     "text": [
      "ℹ Loading smooth\n"
     ]
    },
    {
     "name": "stderr",
     "output_type": "stream",
     "text": [
      "R[write to console]: Loading required package: greybox\n",
      "\n",
      "R[write to console]: Package \"greybox\", v2.0.4.41003 loaded.\n",
      "\n",
      "\n",
      "R[write to console]: This is package \"smooth\", v4.1.2.41005\n",
      "\n",
      "\n",
      "R[write to console]: In addition: \n",
      "R[write to console]: Warning message:\n",
      "\n",
      "R[write to console]: In (function (package, help, pos = 2, lib.loc = NULL, character.only = FALSE,  :\n",
      "R[write to console]: \n",
      " \n",
      "R[write to console]:  libraries ‘/usr/local/lib/R/site-library’, ‘/usr/lib/R/site-library’ contain no packages\n",
      "\n"
     ]
    },
    {
     "name": "stdout",
     "output_type": "stream",
     "text": [
      "Smooth package loaded in development mode\n"
     ]
    }
   ],
   "source": [
    "import numpy as np\n",
    "import pandas as pd\n",
    "# Just to plot the time series and see what it looks like\n",
    "#import matplotlib.pyplot as plt\n",
    "\n",
    "%load_ext rpy2.ipython\n",
    "\n",
    "import rpy2.robjects as ro\n",
    "from rpy2.robjects.packages import importr\n",
    "import os\n",
    "\n",
    "def load_smooth_dev():\n",
    "    \"\"\"Load the smooth package in development mode\"\"\"\n",
    "    # Path to your smooth package\n",
    "    smooth_path = \"~/Cursor/smooth/\"  # Adjust this path if needed\n",
    "    \n",
    "    # Load devtools and then load_all() the smooth package\n",
    "    ro.r(f'''\n",
    "    if (!requireNamespace(\"devtools\", quietly=TRUE)) {{\n",
    "        install.packages(\"devtools\", repos=\"https://cran.rstudio.com/\")\n",
    "    }}\n",
    "    devtools::load_all(\"{smooth_path}\")\n",
    "    ''')\n",
    "    \n",
    "    print(\"Smooth package loaded in development mode\")\n",
    "\n",
    "# Load the package in development mode\n",
    "load_smooth_dev()"
   ]
  },
  {
   "cell_type": "code",
   "execution_count": 2,
   "metadata": {},
   "outputs": [],
   "source": [
    "#### Global level and ETS(A,N,N) ####\n",
    "np.random.seed(33)  # For reproducibility\n",
    "n_points = 100\n",
    "time_series = np.random.normal(100, 10, n_points)  # Random errors\n",
    "#dates = pd.date_range(start='2023-01-01', periods=n_points, freq='ME')  # Monthly frequency\n",
    "ts_df = pd.DataFrame({'value': time_series})"
   ]
  },
  {
   "cell_type": "code",
   "execution_count": 3,
   "metadata": {},
   "outputs": [
    {
     "name": "stdout",
     "output_type": "stream",
     "text": [
      "Time Series:\n",
      "Start = 101 \n",
      "End = 112 \n",
      "Frequency = 1 \n",
      " [1] 99.61957 99.61957 99.61957 99.61957 99.61957 99.61957 99.61957 99.61957\n",
      " [9] 99.61957 99.61957 99.61957 99.61957\n"
     ]
    }
   ],
   "source": [
    "%%R -i ts_df\n",
    "\n",
    "model <- adam(ts_df, model = \"ANN\", lags = c(12))\n",
    "\n",
    "forecast(model, h = 12)"
   ]
  },
  {
   "cell_type": "code",
   "execution_count": 4,
   "metadata": {},
   "outputs": [],
   "source": [
    "#### Local level and ETS(A,N,N) ####\n",
    "np.random.seed(41)  # For reproducibility\n",
    "n_points = 120\n",
    "errors = np.random.normal(0, 10, n_points)  # Random errors\n",
    "time_series = np.zeros(n_points)\n",
    "time_series[0] = 100\n",
    "for i in range(n_points-1):\n",
    "    # This is SES with alpha=0.1, just in an alternative form\n",
    "    time_series[i+1] = time_series[i] + (0.1-1) * errors[i] + errors[i+1]\n",
    "#dates = pd.date_range(start='2023-01-01', periods=n_points, freq='ME')  # Monthly frequency\n",
    "ts_df = pd.DataFrame({'value': time_series})"
   ]
  },
  {
   "cell_type": "code",
   "execution_count": 5,
   "metadata": {},
   "outputs": [
    {
     "name": "stdout",
     "output_type": "stream",
     "text": [
      "ETS(A,N,N) with alpha=0.1:\n",
      "Time Series:\n",
      "Start = 121 \n",
      "End = 132 \n",
      "Frequency = 1 \n",
      " [1] 83.22599 83.22599 83.22599 83.22599 83.22599 83.22599 83.22599 83.22599\n",
      " [9] 83.22599 83.22599 83.22599 83.22599\n",
      "\n",
      "ETS(A,N,N) with estimated parameters:\n",
      "      alpha       level \n",
      " 0.06531787 96.99069808 \n",
      "Time Series:\n",
      "Start = 121 \n",
      "End = 132 \n",
      "Frequency = 1 \n",
      " [1] 84.70888 84.70888 84.70888 84.70888 84.70888 84.70888 84.70888 84.70888\n",
      " [9] 84.70888 84.70888 84.70888 84.70888\n",
      "\n",
      "ETS(M,N,N) with estimated parameters:\n",
      "Time Series:\n",
      "Start = 121 \n",
      "End = 132 \n",
      "Frequency = 1 \n",
      " [1] 84.83866 84.83866 84.83866 84.83866 84.83866 84.83866 84.83866 84.83866\n",
      " [9] 84.83866 84.83866 84.83866 84.83866\n"
     ]
    }
   ],
   "source": [
    "%%R -i ts_df\n",
    "\n",
    "# ETS(A,N,N) with alpha=0.1\n",
    "model <- adam(ts_df, model = \"ANN\", lags = c(12), persistence = 0.1)\n",
    "\n",
    "cat(\"ETS(A,N,N) with alpha=0.1:\\n\")\n",
    "forecast(model, h = 12) |> print()\n",
    "\n",
    "# ETS(A,N,N) with estimated alpha\n",
    "model <- adam(ts_df, model = \"ANN\", lags = c(12))\n",
    "cat(\"\\nETS(A,N,N) with estimated parameters:\\n\")\n",
    "print(model$B)\n",
    "forecast(model, h = 12) |> print()\n",
    "\n",
    "# ETS(M,N,N) with estimated alpha\n",
    "model <- adam(ts_df, model = \"MNN\", lags = c(12), distribution=\"dnorm\")\n",
    "cat(\"\\nETS(M,N,N) with estimated parameters:\\n\")\n",
    "forecast(model, h = 12) |> print()\n"
   ]
  },
  {
   "cell_type": "code",
   "execution_count": 6,
   "metadata": {},
   "outputs": [],
   "source": [
    "#### Local trend and ETS(A,A,N) ####\n",
    "np.random.seed(42)  # For reproducibility\n",
    "n_points = 120\n",
    "errors = np.random.normal(0, 10, n_points)  # Random errors\n",
    "trend = np.random.normal(0.5, 2, n_points)  # Random trend\n",
    "time_series = np.zeros(n_points)\n",
    "time_series[0] = 100\n",
    "for i in range(n_points-1):\n",
    "    # This is SES with alpha=0.1, just in an alternative form\n",
    "    time_series[i+1] = time_series[i] + (0.1-1) * errors[i] + trend[i] + errors[i+1]\n",
    "#dates = pd.date_range(start='2023-01-01', periods=n_points, freq='ME')  # Monthly frequency\n",
    "ts_df = pd.DataFrame({'value': time_series})\n"
   ]
  },
  {
   "cell_type": "code",
   "execution_count": 7,
   "metadata": {},
   "outputs": [
    {
     "name": "stdout",
     "output_type": "stream",
     "text": [
      "ETS(A,A,N):\n",
      "Time Series:\n",
      "Start = 121 \n",
      "End = 132 \n",
      "Frequency = 1 \n",
      " [1] 165.2555 165.7640 166.2724 166.7808 167.2892 167.7977 168.3061 168.8145\n",
      " [9] 169.3230 169.8314 170.3398 170.8483\n",
      "\n",
      "ETS(A,Ad,N) estimated parameters:\n",
      "       alpha         beta          phi        level        trend \n",
      "  0.16827523   0.01042486   0.98630131 104.77485790  -0.38092112 \n",
      "\n",
      "ETS(A,Ad,N):\n",
      "Time Series:\n",
      "Start = 121 \n",
      "End = 132 \n",
      "Frequency = 1 \n",
      " [1] 163.2357 163.7013 164.1408 164.5555 164.9469 165.3163 165.6649 165.9939\n",
      " [9] 166.3044 166.5974 166.8740 167.1350\n"
     ]
    }
   ],
   "source": [
    "%%R -i ts_df\n",
    "\n",
    "# ETS(A,A,N)\n",
    "model1 <- adam(ts_df, model = \"AAN\", lags = c(12), persistence = c(0.1, 0.02), distribution=\"dnorm\")\n",
    "\n",
    "cat(\"ETS(A,A,N):\\n\")\n",
    "forecast(model1, h = 12) |> print()\n",
    "\n",
    "# ETS(A,Ad,N) estimated\n",
    "cat(\"\\nETS(A,Ad,N) estimated parameters:\\n\")\n",
    "print(adam(ts_df, model = \"AAdN\", lags = c(12), distribution=\"dnorm\")$B)\n",
    "\n",
    "# ETS(A,Ad,N)\n",
    "model2 <- adam(ts_df, model = \"AAdN\", lags = c(12), persistence = c(0.1, 0.02), distribution=\"dnorm\")\n",
    "\n",
    "cat(\"\\nETS(A,Ad,N):\\n\")\n",
    "forecast(model2, h = 12) |> print()"
   ]
  },
  {
   "cell_type": "code",
   "execution_count": 8,
   "metadata": {},
   "outputs": [
    {
     "name": "stdout",
     "output_type": "stream",
     "text": [
      "ETS(M,A,N):\n",
      "Time Series:\n",
      "Start = 121 \n",
      "End = 132 \n",
      "Frequency = 1 \n",
      " [1] 165.2563 165.7645 166.2728 166.7811 167.2894 167.7977 168.3060 168.8143\n",
      " [9] 169.3226 169.8309 170.3392 170.8475\n",
      "\n",
      "ETS(M,Ad,N) estimated parameters:\n",
      "       alpha         beta          phi        level        trend \n",
      "  0.14969093   0.01327518   0.96754121 105.75620898 "
     ]
    },
    {
     "name": "stdout",
     "output_type": "stream",
     "text": [
      " -0.46234686 \n",
      "\n",
      "ETS(M,Ad,N):\n",
      "Time Series:\n",
      "Start = 121 \n",
      "End = 132 \n",
      "Frequency = 1 \n",
      " [1] 163.1952 163.6595 164.0968 164.5088 164.8968 165.2622 165.6065 165.9307\n",
      " [9] 166.2361 166.5238 166.7948 167.0500\n"
     ]
    }
   ],
   "source": [
    "%%R -i ts_df\n",
    "\n",
    "# ETS(M,A,N)\n",
    "model1 <- adam(ts_df, model = \"MAN\", lags = c(12), persistence = c(0.1, 0.02), distribution=\"dnorm\")\n",
    "\n",
    "cat(\"ETS(M,A,N):\\n\")\n",
    "forecast(model1, h = 12) |> print()\n",
    "\n",
    "# ETS(M,Ad,N) estimated\n",
    "cat(\"\\nETS(M,Ad,N) estimated parameters:\\n\")\n",
    "print(adam(ts_df, model = \"MAdN\", lags = c(12), distribution=\"dnorm\")$B)\n",
    "\n",
    "# ETS(M,Ad,N)\n",
    "model2 <- adam(ts_df, model = \"MAdN\", lags = c(12), persistence = c(0.1, 0.02), distribution=\"dnorm\")\n",
    "\n",
    "cat(\"\\nETS(M,Ad,N):\\n\")\n",
    "forecast(model2, h = 12) |> print()"
   ]
  },
  {
   "cell_type": "code",
   "execution_count": 9,
   "metadata": {},
   "outputs": [
    {
     "name": "stdout",
     "output_type": "stream",
     "text": [
      "ETS(M,M,N):\n",
      "      level       trend \n",
      "107.9006421   0.9932798 \n",
      "Time Series:\n",
      "Start = 121 \n",
      "End = 132 \n",
      "Frequency = 1 \n",
      " [1] 165.5615 166.0806 166.7931 167.0704 167.6807 167.8501 168.5623 169.2153\n",
      " [9] 169.7927 169.9725 170.8213 171.0304\n",
      "\n",
      "ETS(M,Md,N) estimated parameters:\n",
      "       alpha         beta          phi        level        trend \n",
      "  0.14927185   0.01276844   0.96512552 106.24511408   0.99496933 \n",
      "\n",
      "ETS(M,Md,N):\n",
      "Time Series:\n",
      "Start = 121 \n",
      "End = 132 \n",
      "Frequency = 1 \n",
      " [1] 163.1433 163.5274 164.0098 164.5318 164.5706 165.0050 165.5159 165.6156\n",
      " [9] 166.4636 166.2174 166.6896 166.9163\n"
     ]
    },
    {
     "data": {
      "text/plain": [
       "In addition: Warning messages:\n",
       "1: Your model has a potentially explosive multiplicative trend. I cannot do anything about it, so please just be careful. \n",
       "2: Your model has a potentially explosive multiplicative trend. I cannot do anything about it, so please just be careful. \n"
      ]
     },
     "metadata": {},
     "output_type": "display_data"
    }
   ],
   "source": [
    "%%R -i ts_df\n",
    "\n",
    "# ETS(M,M,N)\n",
    "model1 <- adam(ts_df, model = \"MMN\", lags = c(12), persistence = c(0.1, 0.02), distribution=\"dnorm\")\n",
    "\n",
    "cat(\"ETS(M,M,N):\\n\")\n",
    "print(model1$B)\n",
    "forecast(model1, h = 12) |> print()\n",
    "\n",
    "# ETS(M,Md,N) estimated\n",
    "cat(\"\\nETS(M,Md,N) estimated parameters:\\n\")\n",
    "print(adam(ts_df, model = \"MMdN\", lags = c(12), distribution=\"dnorm\")$B)\n",
    "\n",
    "# ETS(M,Md,N)\n",
    "model2 <- adam(ts_df, model = \"MMdN\", lags = c(12), persistence = c(0.1, 0.02), distribution=\"dnorm\")\n",
    "\n",
    "cat(\"\\nETS(M,Md,N):\\n\")\n",
    "forecast(model2, h = 12) |> print()\n"
   ]
  },
  {
   "cell_type": "code",
   "execution_count": 10,
   "metadata": {},
   "outputs": [],
   "source": [
    "#### Seasonal data ####\n",
    "np.random.seed(42)  # For reproducibility\n",
    "n_points = 120\n",
    "errors = (1+np.random.normal(0, 0.1, n_points))  # Random errors\n",
    "trend = np.random.normal(0.5, 2, n_points)  # Random trend\n",
    "seasonal_sd = 0.2\n",
    "seasonal_pattern = np.exp(np.random.normal(0, seasonal_sd, 12))  # Random seasonal pattern\n",
    "seasonal_pattern = seasonal_pattern / np.mean(seasonal_pattern)  # Normalize to sum to 1\n",
    "time_series = np.zeros(n_points)\n",
    "time_series[0] = 200 * seasonal_pattern[0] * errors[0]\n",
    "for i in range(n_points-1):\n",
    "    # This is SES with alpha=0.1, just in an alternative form\n",
    "    time_series[i+1] = ((time_series[i] / seasonal_pattern[(i) % 12]-trend[i]) * errors[i] ** (0.1-1) + trend[i+1]) * seasonal_pattern[(i+1) % 12] * errors[i+1]\n",
    "ts_df = pd.DataFrame({'value': time_series})\n"
   ]
  },
  {
   "cell_type": "code",
   "execution_count": 17,
   "metadata": {},
   "outputs": [
    {
     "name": "stdout",
     "output_type": "stream",
     "text": [
      "ETS(A,A,A):\n",
      "        alpha          beta         gamma         level         trend \n",
      " 2.161811e-02  1.579075e-02  5.859355e-04  2.218595e+02 -7.471062e-01 \n",
      "   seasonal_1    seasonal_2    seasonal_3    seasonal_4    seasonal_5 \n",
      "-2.789793e+01 -1.110634e+01 -1.877190e-01  3.397825e+01 -4.309394e+01 \n",
      "   seasonal_6    seasonal_7    seasonal_8    seasonal_9   seasonal_10 \n",
      " 1.168707e+00 -1.501950e+01 -2.036129e+01  7.238855e+01  9.665323e+00 \n",
      "  seasonal_11 \n",
      "-3.498305e+01 \n",
      "Time Series:\n",
      "Start = 121 \n",
      "End = 132 \n",
      "Frequency = 1 \n",
      " [1] 139.4253 157.0797 168.9017 203.9372 127.7433 172.8483 157.5823 153.1201\n",
      " [9] 246.7386 184.9105 141.1466 212.4595\n",
      "\n",
      "ETS(A,Ad,A):\n",
      "Time Series:\n",
      "Start = 121 \n",
      "End = 132 \n",
      "Frequency = 1 \n",
      " [1] 143.3686 159.1775 170.6195 206.3118 128.7002 165.9054 158.7444 152.9272\n",
      " [9] 245.0987 184.7617 139.8602 212.0961\n"
     ]
    }
   ],
   "source": [
    "%%R -i ts_df\n",
    "\n",
    "# ETS(A,A,A)\n",
    "model1 <- adam(ts_df, model = \"AAA\", lags = c(12), distribution=\"dnorm\")\n",
    "\n",
    "cat(\"ETS(A,A,A):\\n\")\n",
    "print(model1$B)\n",
    "forecast(model1, h = 12) |> print()\n",
    "\n",
    "# ETS(A,Ad,A) estimated\n",
    "model2 <- adam(ts_df, model = \"AAdA\", lags = c(12), distribution=\"dnorm\")\n",
    "\n",
    "cat(\"\\nETS(A,Ad,A):\\n\")\n",
    "forecast(model2, h = 12) |> print()"
   ]
  },
  {
   "cell_type": "code",
   "execution_count": 18,
   "metadata": {},
   "outputs": [
    {
     "name": "stdout",
     "output_type": "stream",
     "text": [
      "ETS(M,A,M):\n",
      "       alpha         beta        gamma        level        trend   seasonal_1 \n",
      "1.481591e-01 1.426804e-02 7.384620e-04 2.037820e+02 6.272065e-01 8.650025e-01 \n",
      "  seasonal_2   seasonal_3   seasonal_4   seasonal_5   seasonal_6   seasonal_7 \n",
      "9.461651e-01 1.032165e+00 1.201518e+00 7.706866e-01 9.885534e-01 9.266625e-01 \n",
      "  seasonal_8   seasonal_9  seasonal_10  seasonal_11 \n",
      "9.073598e-01 1.417307e+00 1.067171e+00 8.234215e-01 \n",
      "Time Series:\n",
      "Start = 121 \n",
      "End = 132 \n",
      "Frequency = 1 \n",
      " [1] 146.5487 160.5128 175.3330 204.3908 131.2754 168.6074 158.2698 155.1663\n",
      " [9] 242.7110 183.0018 141.3871 212.3149\n",
      "\n",
      "ETS(M,Ad,M):\n",
      "Time Series:\n",
      "Start = 121 \n",
      "End = 132 \n",
      "Frequency = 1 \n",
      " [1] 145.2918 161.0047 173.9070 202.6789 129.8380 167.2848 157.8726 154.0776\n",
      " [9] 241.7977 181.0301 139.8114 210.1557\n"
     ]
    }
   ],
   "source": [
    "%%R -i ts_df\n",
    "\n",
    "# ETS(M,A,M)\n",
    "model3 <- adam(ts_df, model = \"MAM\", lags = c(12), distribution=\"dnorm\")\n",
    "\n",
    "cat(\"ETS(M,A,M):\\n\")\n",
    "print(model3$B)\n",
    "forecast(model3, h = 12) |> print()\n",
    "\n",
    "# ETS(M,Ad,M) estimated\n",
    "model4 <- adam(ts_df, model = \"MAdM\", lags = c(12), distribution=\"dnorm\")\n",
    "\n",
    "cat(\"\\nETS(M,Ad,M):\\n\")\n",
    "forecast(model4, h = 12) |> print()\n"
   ]
  },
  {
   "cell_type": "code",
   "execution_count": 19,
   "metadata": {},
   "outputs": [
    {
     "name": "stdout",
     "output_type": "stream",
     "text": [
      "ETS(M,M,M):\n",
      "       alpha         beta        gamma        level        trend   seasonal_1 \n",
      "1.421328e-01 3.263737e-02 2.000175e-03 2.889158e+02 9.775630e-01 8.632702e-01 \n",
      "  seasonal_2   seasonal_3   seasonal_4   seasonal_5   seasonal_6   seasonal_7 \n",
      "9.393712e-01 1.035164e+00 1.198405e+00 7.638555e-01 9.888694e-01 9.310523e-01 \n",
      "  seasonal_8   seasonal_9  seasonal_10  seasonal_11 \n",
      "9.037185e-01 1.435445e+00 1.068880e+00 8.222703e-01 \n",
      "Time Series:\n",
      "Start = 121 \n",
      "End = 132 \n",
      "Frequency = 1 \n",
      " [1] 148.8959 162.7222 180.2983 209.6383 134.3044 174.5189 165.2093 160.6445\n",
      " [9] 257.0602 192.4393 148.8488 225.6364\n",
      "\n",
      "ETS(M,Md,M):\n",
      "Time Series:\n",
      "Start = 121 \n",
      "End = 132 \n",
      "Frequency = 1 \n",
      " [1] 147.2981 162.3072 171.8453 202.9607 128.7773 164.2917 156.7665 153.4287\n",
      " [9] 241.5124 181.5702 137.2505 208.6129\n"
     ]
    },
    {
     "data": {
      "text/plain": [
       "In addition: Warning messages:\n",
       "1: Your model has a potentially explosive multiplicative trend. I cannot do anything about it, so please just be careful. \n",
       "2: Your model has a potentially explosive multiplicative trend. I cannot do anything about it, so please just be careful. \n"
      ]
     },
     "metadata": {},
     "output_type": "display_data"
    }
   ],
   "source": [
    "%%R -i ts_df\n",
    "# ETS(M,M,M)\n",
    "model5 <- adam(ts_df, model = \"MMM\", lags = c(12), distribution=\"dnorm\")\n",
    "\n",
    "cat(\"ETS(M,M,M):\\n\")\n",
    "print(model5$B)\n",
    "forecast(model5, h = 12) |> print()\n",
    "\n",
    "# ETS(M,Md,M) estimated\n",
    "model6 <- adam(ts_df, model = \"MMdM\", lags = c(12), distribution=\"dnorm\")\n",
    "\n",
    "cat(\"\\nETS(M,Md,M):\\n\")\n",
    "forecast(model6, h = 12) |> print()"
   ]
  }
 ],
 "metadata": {
  "kernelspec": {
   "display_name": ".venv",
   "language": "python",
   "name": "python3"
  },
  "language_info": {
   "codemirror_mode": {
    "name": "ipython",
    "version": 3
   },
   "file_extension": ".py",
   "mimetype": "text/x-python",
   "name": "python",
   "nbconvert_exporter": "python",
   "pygments_lexer": "ipython3",
   "version": "3.12.7"
  }
 },
 "nbformat": 4,
 "nbformat_minor": 2
}
